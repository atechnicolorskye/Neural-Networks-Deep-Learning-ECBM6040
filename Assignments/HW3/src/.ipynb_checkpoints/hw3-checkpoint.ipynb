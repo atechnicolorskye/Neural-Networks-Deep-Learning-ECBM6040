{
 "cells": [
  {
   "cell_type": "markdown",
   "metadata": {},
   "source": [
    "## ECBM E6040 Homework 3 - Programming Problem"
   ]
  },
  {
   "cell_type": "code",
   "execution_count": null,
   "metadata": {
    "collapsed": false
   },
   "outputs": [],
   "source": [
    "import matplotlib\n",
    "import pylab\n",
    "%matplotlib inline"
   ]
  },
  {
   "cell_type": "markdown",
   "metadata": {},
   "source": [
    "For all parts of Problem A, patience was set to 30000. For parts i, ii and iii, the number of epochs was set to 300."
   ]
  },
  {
   "cell_type": "markdown",
   "metadata": {},
   "source": [
    "### Problem A: Regularization Methods for Neural Network\n",
    "#### Bullet 1: Implement a MLP"
   ]
  },
  {
   "cell_type": "code",
   "execution_count": null,
   "metadata": {
    "collapsed": true
   },
   "outputs": [],
   "source": [
    "test_mlp(learning_rate=0.01, L1_reg=0.00, L2_reg=0.0001, n_epochs=300,\n",
    "             batch_size=128, n_hidden=500, n_hiddenLayers=3,\n",
    "             verbose=False, smaller_set=True)"
   ]
  },
  {
   "cell_type": "raw",
   "metadata": {},
   "source": [
    "Optimization complete.\n",
    "Best validation score of 25.710227 % obtained at iteration 29664, with test performance 27.570813 %"
   ]
  },
  {
   "cell_type": "code",
   "execution_count": null,
   "metadata": {
    "collapsed": true
   },
   "outputs": [],
   "source": [
    "test_mlp(learning_rate=0.01, L1_reg=0.00, L2_reg=0.0001, n_epochs=300,\n",
    "             batch_size=128, n_hidden=500, n_hiddenLayers=3,\n",
    "             verbose=False, smaller_set=False)"
   ]
  },
  {
   "cell_type": "raw",
   "metadata": {},
   "source": [
    "Optimization complete.\n",
    "Best validation score of 20.792215 % obtained at iteration 29870, with test performance 22.290640 %"
   ]
  },
  {
   "cell_type": "markdown",
   "metadata": {},
   "source": [
    "A 3 layer 500 node MLP sees a ~5% performance improvement when trained on the full dataset."
   ]
  },
  {
   "cell_type": "markdown",
   "metadata": {},
   "source": [
    "#### Bullet 2: Experiment with noise injection at input"
   ]
  },
  {
   "cell_type": "code",
   "execution_count": null,
   "metadata": {
    "collapsed": true
   },
   "outputs": [],
   "source": [
    "for i in [0.1, 0.05, 0.001, 0.005, 0.0001]:\n",
    "        test_noise_inject_at_input(learning_rate=0.01, L1_reg=0.00, L2_reg=0.0001, n_epochs=300,\n",
    "                 batch_size=128, n_hidden=500, n_hiddenLayers=3,\n",
    "                 verbose=False, noise_type='normal', scale=i, double_noise=False)\n",
    "        test_noise_inject_at_input(learning_rate=0.01, L1_reg=0.00, L2_reg=0.0001, n_epochs=300,\n",
    "                 batch_size=128, n_hidden=500, n_hiddenLayers=3,\n",
    "                 verbose=False, noise_type='normal', scale=i, double_noise=True)\n",
    "        test_noise_inject_at_input(learning_rate=0.01, L1_reg=0.00, L2_reg=0.0001, n_epochs=300,\n",
    "                 batch_size=128, n_hidden=500, n_hiddenLayers=3,\n",
    "                 verbose=False, noise_type='uniform', scale=i, double_noise=False)\n",
    "        test_noise_inject_at_input(learning_rate=0.01, L1_reg=0.00, L2_reg=0.0001, n_epochs=300,\n",
    "                 batch_size=128, n_hidden=500, n_hiddenLayers=3,\n",
    "                 verbose=False, noise_type='uniform', scale=i, double_noise=True)"
   ]
  },
  {
   "cell_type": "raw",
   "metadata": {
    "collapsed": true
   },
   "source": [
    "test_noise_inject_at_input 300 500 normal False 3 0.1\n",
    "Optimization complete.\n",
    "Best validation score of 28.196023 % obtained at iteration 28840, with test performance 29.067888 %\n",
    "\n",
    "test_noise_inject_at_input 300 500 normal True 3 0.1\n",
    "Optimization complete.\n",
    "Best validation score of 27.698864 % obtained at iteration 27295, with test performance 28.933190 %\n",
    "\n",
    "test_noise_inject_at_input 300 500 uniform False 3 0.1\n",
    "Optimization complete.\n",
    "Best validation score of 26.420455 % obtained at iteration 29870, with test performance 27.466903 %\n",
    "\n",
    "test_noise_inject_at_input 300 500 uniform True 3 0.1\n",
    "Optimization complete.\n",
    "Best validation score of 26.207386 % obtained at iteration 29870, with test performance 27.074353 %\n",
    "\n",
    "test_noise_inject_at_input 300 500 normal False 3 0.05\n",
    "Optimization complete.\n",
    "Best validation score of 28.125000 % obtained at iteration 24720, with test performance 29.787562 %\n",
    "\n",
    "test_noise_inject_at_input 300 500 normal True 3 0.05\n",
    "Optimization complete.\n",
    "Best validation score of 28.338068 % obtained at iteration 25750, with test performance 28.983220 %\n",
    "\n",
    "test_noise_inject_at_input 300 500 uniform False 3 0.05\n",
    "Optimization complete.\n",
    "Best validation score of 26.136364 % obtained at iteration 29870, with test performance 27.278325 %\n",
    "\n",
    "test_noise_inject_at_input 300 500 uniform True 3 0.05\n",
    "Optimization complete.\n",
    "Best validation score of 26.704545 % obtained at iteration 27295, with test performance 27.959514 %\n",
    "\n",
    "test_noise_inject_at_input 300 500 normal False3 0.001\n",
    "Optimization complete.\n",
    "Best validation score of 25.781250 % obtained at iteration 28840, with test performance 28.186576 %\n",
    "\n",
    "test_noise_inject_at_input 300 500 normal True 3 0.001\n",
    "Optimization complete.\n",
    "Best validation score of 25.781250 % obtained at iteration 28840, with test performance 28.182728 %\n",
    "\n",
    "test_noise_inject_at_input 300 500 uniform False3 0.001\n",
    "Optimization complete.\n",
    "Best validation score of 25.710227 % obtained at iteration 29870, with test performance 28.302032 %\n",
    "\n",
    "test_noise_inject_at_input 300 500 uniform True 3 0.001\n",
    "Optimization complete.\n",
    "Best validation score of 25.781250 % obtained at iteration 28840, with test performance 28.132697 %\n",
    "\n",
    "test_noise_inject_at_input 300 500 normal False 3 0.005\n",
    "Optimization complete.\n",
    "Best validation score of 26.136364 % obtained at iteration 28325, with test performance 28.298183 %\n",
    "\n",
    "test_noise_inject_at_input 300 500 normal True 3 0.005\n",
    "Optimization complete.\n",
    "Best validation score of 25.994318 % obtained at iteration 28840, with test performance 28.221213 %\n",
    "\n",
    "test_noise_inject_at_input 300 500 uniform False 3 0.005\n",
    "Optimization complete.\n",
    "Best validation score of 25.781250 % obtained at iteration 29355, with test performance 28.082666 %\n",
    "\n",
    "test_noise_inject_at_input 300 500 uniform True 3 0.005\n",
    "Optimization complete.\n",
    "Best validation score of 25.852273 % obtained at iteration 29870, with test performance 28.228910 %\n",
    "\n",
    "test_noise_inject_at_input 300 500 normal False 3 0.0001\n",
    "Optimization complete.\n",
    "Best validation score of 25.710227 % obtained at iteration 28840, with test performance 28.167334 %\n",
    "\n",
    "test_noise_inject_at_input 300 500 normal True 3 0.0001\n",
    "Optimization complete.\n",
    "Best validation score of 25.781250 % obtained at iteration 28840, with test performance 28.171182 %\n",
    "\n",
    "test_noise_inject_at_input 300 500 uniform False 3 0.0001\n",
    "Optimization complete.\n",
    "Best validation score of 25.710227 % obtained at iteration 28840, with test performance 28.171182 %\n",
    "\n",
    "test_noise_inject_at_input 300 500 uniform True 3 0.0001\n",
    "Optimization complete.\n",
    "Best validation score of 25.710227 % obtained at iteration 28840, with test performance 28.171182 %"
   ]
  },
  {
   "cell_type": "code",
   "execution_count": null,
   "metadata": {
    "collapsed": true
   },
   "outputs": [],
   "source": [
    "x = [0.1, 0.05, 0.001, 0.005, 0.0001]\n",
    "y_n = [29.067888, 29.787562, 28.186576, 28.298183, 28.167334] \n",
    "y_n_2 = [28.933190, 28.983220, 28.182728, 28.221213, 28.171182]\n",
    "y_u = [27.466903, 27.278325, 28.302032, 28.082666, 28.171182]\n",
    "y_u_2 = [27.074353, 27.959514, 28.132697, 28.228910, 28.171182]\n",
    "\n",
    "\n"
   ]
  },
  {
   "cell_type": "markdown",
   "metadata": {},
   "source": [
    "#### Bullet 3: Experiment with noise injection at weights"
   ]
  },
  {
   "cell_type": "code",
   "execution_count": null,
   "metadata": {
    "collapsed": true
   },
   "outputs": [],
   "source": [
    "for i in [0.1, 0.01, 0.001, 0.0001, 0.00005, 0.00001, 0.000005]:\n",
    "        test_noise_inject_at_weight(learning_rate=0.01,\n",
    "             L1_reg=0.00, L2_reg=0.0001, n_epochs=300,\n",
    "             batch_size=128, n_hidden=500, n_hiddenLayers=3, scale=i,\n",
    "             verbose=False, noise_type='normal')\n",
    "        test_noise_inject_at_weight(learning_rate=0.01,\n",
    "             L1_reg=0.00, L2_reg=0.0001, n_epochs=300,\n",
    "             batch_size=128, n_hidden=500, n_hiddenLayers=3, scale=i,\n",
    "             verbose=False, noise_type='normal')"
   ]
  },
  {
   "cell_type": "markdown",
   "metadata": {},
   "source": [
    "#### Bullet 4: Experiment with data augmentation"
   ]
  },
  {
   "cell_type": "code",
   "execution_count": null,
   "metadata": {
    "collapsed": true,
    "scrolled": false
   },
   "outputs": [],
   "source": [
    "for i in [100, 200, 300, 400, 500]:    \n",
    "    test_data_augmentation(learning_rate=0.01, L1_reg=0.00, L2_reg=0.0001, n_epochs=i,\n",
    "             batch_size=128, n_hidden=500, n_hiddenLayers=3,\n",
    "             verbose=False)"
   ]
  },
  {
   "cell_type": "raw",
   "metadata": {},
   "source": [
    "test_data_augmentation 100 500 3\n",
    "Optimization complete.\n",
    "Best validation score of 26.491477 % obtained at iteration 29870, with test performance 27.909483 %\n",
    "\n",
    "test_data_augmentation 200 500 3\n",
    "Optimization complete.\n",
    "Best validation score of 26.491477 % obtained at iteration 29870, with test performance 27.909483 %\n",
    "\n",
    "test_data_augmentation 300 500 3\n",
    "Optimization complete.\n",
    "Best validation score of 26.491477 % obtained at iteration 29870, with test performance 27.909483 %\n",
    "\n",
    "test_data_augmentation 400 500 3\n",
    "Optimization complete.\n",
    "Best validation score of 26.491477 % obtained at iteration 29870, with test performance 27.909483 %\n",
    "\n",
    "test_data_augmentation 500 500 3\n",
    "Optimization complete.\n",
    "Best validation score of 26.491477 % obtained at iteration 29870, with test performance 27.909483 %"
   ]
  },
  {
   "cell_type": "markdown",
   "metadata": {},
   "source": [
    "#### Bullet 5: Experiment with adversarial examples"
   ]
  },
  {
   "cell_type": "code",
   "execution_count": null,
   "metadata": {
    "collapsed": true
   },
   "outputs": [],
   "source": [
    "# TODO"
   ]
  },
  {
   "cell_type": "markdown",
   "metadata": {},
   "source": [
    "### Problem b: Convolutional Neural Network\n",
    "#### Bullet 1: Implement an CNN"
   ]
  },
  {
   "cell_type": "code",
   "execution_count": null,
   "metadata": {
    "collapsed": true
   },
   "outputs": [],
   "source": [
    "test_lenet(nkerns=[16, 512], filter_size=3, verbose=True)\n",
    "test_lenet(nkerns=[16, 512], filter_size=5, verbose=True)\n",
    "test_lenet(nkerns=[16, 512], filter_size=7, verbose=True)\n",
    "test_lenet(nkerns=[8, 256], filter_size=7, verbose=True)\n",
    "test_lenet(nkerns=[32, 1024], filter_size=7, verbose=True)"
   ]
  },
  {
   "cell_type": "raw",
   "metadata": {},
   "source": [
    "test_lenet [16, 512] 3\n",
    "Optimization complete.\n",
    "Best validation score of 9.666667 % obtained at iteration 8883, with test performance 11.311538 %\n",
    "\n",
    "test_lenet [16, 512] 5\n",
    "Optimization complete.\n",
    "Best validation score of 9.291667 % obtained at iteration 9870, with test performance 10.426923 %\n",
    "\n",
    "test_lenet [16, 512] 7\n",
    "Optimization complete.\n",
    "Best validation score of 81.152778 % obtained at iteration 987, with test performance 80.415385 %\n",
    "\n",
    "test_lenet [8, 256] 5\n",
    "Optimization complete.\n",
    "Best validation score of 9.638889 % obtained at iteration 9541, with test performance 10.888462 %\n",
    "\n",
    "test_lenet [8, 256] 7\n",
    "Optimization complete.\n",
    "Best validation score of 81.152778 % obtained at iteration 329, with test performance 80.415385 %\n",
    "\n",
    "test_lenet [32, 1024] 7\n",
    "Optimization complete.\n",
    "Best validation score of 81.152778 % obtained at iteration 3619, with test performance 80.415385 %"
   ]
  },
  {
   "cell_type": "markdown",
   "metadata": {},
   "source": []
  },
  {
   "cell_type": "markdown",
   "metadata": {},
   "source": [
    "#### Bullet 2: Implement a multi-stage CNN"
   ]
  },
  {
   "cell_type": "code",
   "execution_count": null,
   "metadata": {
    "collapsed": true
   },
   "outputs": [],
   "source": [
    "test_convnet(learning_rate=0.1, n_epochs=1000, nkerns=[16, 512, 20],\n",
    "        batch_size=200, filter_size=3, verbose=False)\n",
    "test_convnet(learning_rate=0.1, n_epochs=1000, nkerns=[16, 512, 20],\n",
    "        batch_size=200, filter_size=5, verbose=False)\n",
    "test_convnet(learning_rate=0.1, n_epochs=1000, nkerns=[16, 512, 20],\n",
    "        batch_size=200, filter_size=7, verbose=False)\n",
    "test_convnet(learning_rate=0.1, n_epochs=1000, nkerns=[8, 256, 20],\n",
    "        batch_size=200, filter_size=7, verbose=False)\n",
    "test_convnet(learning_rate=0.1, n_epochs=1000, nkerns=[32, 1024, 20],\n",
    "        batch_size=200, filter_size=7, verbose=False)"
   ]
  },
  {
   "cell_type": "raw",
   "metadata": {},
   "source": [
    "test_convnet [16, 512, 20] 3\n",
    "Optimization complete.\n",
    "Best validation score of 12.027778 % obtained at iteration 5593, with test performance 13.773077 %\n",
    "\n",
    "test_convnet [16, 512, 20] 5\n",
    "Optimization complete\n",
    "Best validation score of 10.861111 % obtained at iteration 4606, with test performance 12.526923 %\n",
    "\n",
    "test_convnet [16, 512, 20] 7\n",
    "Optimization complete.\n",
    "Best validation score of 11.000000 % obtained at iteration 4606, with test performance 12.653846 %\n",
    "\n",
    "test_convnet [8, 256, 20] 7\n",
    "Optimization complete.\n",
    "Best validation score of 10.916667 % obtained at iteration 5264, with test performance 12.688462 %\n",
    "\n",
    "test_convnet [32, 1024, 20] 7\n",
    "Optimization complete.\n",
    "Best validation score of 10.875000 % obtained at iteration 9870, with test performance 12.680769 %"
   ]
  },
  {
   "cell_type": "markdown",
   "metadata": {},
   "source": [
    "#### Bullet 3: Explain why the back-propogation algorithm works on ms-cnn"
   ]
  },
  {
   "cell_type": "raw",
   "metadata": {
    "collapsed": true
   },
   "source": [
    "# TODO"
   ]
  },
  {
   "cell_type": "markdown",
   "metadata": {},
   "source": [
    "#### Bullet 4: Implement CNN plus MLP"
   ]
  },
  {
   "cell_type": "code",
   "execution_count": null,
   "metadata": {
    "collapsed": true
   },
   "outputs": [],
   "source": [
    "test_CDNN(learning_rate=0.1, n_epochs=1000, nkerns=[16, 512],\n",
    "            batch_size=200, filter_size=5, dnn_layers=2, n_hidden=500, verbose=False)"
   ]
  },
  {
   "cell_type": "raw",
   "metadata": {},
   "source": [
    "test_CDNN [16, 512] 5\n",
    "Optimization complete.\n",
    "Best validation score of 9.500000 % obtained at iteration 9541, with test performance 10.826923 %"
   ]
  }
 ],
 "metadata": {
  "kernelspec": {
   "display_name": "Python 2",
   "language": "python",
   "name": "python2"
  },
  "language_info": {
   "codemirror_mode": {
    "name": "ipython",
    "version": 2
   },
   "file_extension": ".py",
   "mimetype": "text/x-python",
   "name": "python",
   "nbconvert_exporter": "python",
   "pygments_lexer": "ipython2",
   "version": "2.7.11"
  }
 },
 "nbformat": 4,
 "nbformat_minor": 0
}
