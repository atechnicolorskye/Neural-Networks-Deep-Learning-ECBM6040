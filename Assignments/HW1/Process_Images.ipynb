{
 "cells": [
  {
   "cell_type": "code",
   "execution_count": 1,
   "metadata": {
    "collapsed": true
   },
   "outputs": [],
   "source": [
    "from PIL import Image"
   ]
  },
  {
   "cell_type": "code",
   "execution_count": 2,
   "metadata": {
    "collapsed": true
   },
   "outputs": [],
   "source": [
    "import os"
   ]
  },
  {
   "cell_type": "code",
   "execution_count": 3,
   "metadata": {
    "collapsed": true
   },
   "outputs": [],
   "source": [
    "import numpy as np"
   ]
  },
  {
   "cell_type": "code",
   "execution_count": 4,
   "metadata": {
    "collapsed": true
   },
   "outputs": [],
   "source": [
    "I_Names = []"
   ]
  },
  {
   "cell_type": "code",
   "execution_count": 5,
   "metadata": {
    "collapsed": false
   },
   "outputs": [],
   "source": [
    "for root, dirs, files in os.walk(os.getcwd()):\n",
    "    for file in files:\n",
    "        if '.tiff' in file:\n",
    "            I_Names.append(file)"
   ]
  },
  {
   "cell_type": "code",
   "execution_count": 6,
   "metadata": {
    "collapsed": false
   },
   "outputs": [],
   "source": [
    "I_Array = np.empty(shape=(len(I_Names), 256, 256), dtype='int32')"
   ]
  },
  {
   "cell_type": "code",
   "execution_count": 7,
   "metadata": {
    "collapsed": false
   },
   "outputs": [],
   "source": [
    "for i in range(len(I_Names)):\n",
    "    Im = Image.open(I_Names[i])\n",
    "    I_Array[i] = np.int32(np.array(Im))\n",
    "    break"
   ]
  },
  {
   "cell_type": "code",
   "execution_count": 8,
   "metadata": {
    "collapsed": false
   },
   "outputs": [],
   "source": [
    "Im_0 = Image.fromarray(np.int32(np.array(Image.open(I_Names[0]))))"
   ]
  },
  {
   "cell_type": "code",
   "execution_count": 9,
   "metadata": {
    "collapsed": false
   },
   "outputs": [],
   "source": [
    "Im_0.show()"
   ]
  },
  {
   "cell_type": "code",
   "execution_count": 10,
   "metadata": {
    "collapsed": false
   },
   "outputs": [],
   "source": [
    "# range(1, len(I_Names))"
   ]
  },
  {
   "cell_type": "code",
   "execution_count": 11,
   "metadata": {
    "collapsed": false
   },
   "outputs": [],
   "source": [
    "import numpy as np\n",
    "import theano\n",
    "import theano.tensor.nnet.neighbours as N\n",
    "\n",
    "# Defining variables\n",
    "images = theano.tensor.tensor4('images')\n",
    "neibs = N.images2neibs(images, neib_shape=(16,16))\n",
    "\n",
    "# Constructing theano function\n",
    "window_function = theano.function([images], neibs)\n",
    "\n",
    "# Function application\n",
    "X = window_function(I_Array.reshape(213,1,256,256))\n",
    "# for i in range(1, len(I_Names)):\n",
    "#     neibs_val = window_function(I_Array[i].reshape(1,1,256,256))\n",
    "#     neibs_main = np.vstack((neibs_main, neibs_val))"
   ]
  },
  {
   "cell_type": "code",
   "execution_count": 12,
   "metadata": {
    "collapsed": false
   },
   "outputs": [],
   "source": [
    "# print X.shape, D.shape, c.shape"
   ]
  },
  {
   "cell_type": "code",
   "execution_count": 13,
   "metadata": {
    "collapsed": false
   },
   "outputs": [],
   "source": [
    "X_mn = np.mean(X, 0)\n",
    "X = X - np.repeat(X_mn.reshape(1, -1), X.shape[0], 0)"
   ]
  },
  {
   "cell_type": "code",
   "execution_count": 48,
   "metadata": {
    "collapsed": false
   },
   "outputs": [
    {
     "name": "stdout",
     "output_type": "stream",
     "text": [
      "(54528, 256) (256, 256) (256, 54528)\n"
     ]
    }
   ],
   "source": [
    "X_T_X = np.dot(X.T, X)\n",
    "EigVal, EigVec = np.linalg.eigh(X_T_X)\n",
    "# print EigVal[::-1], EigVec[::-1]\n",
    "D = np.fliplr(EigVec)\n",
    "# D = EigVec[::-1]\n",
    "\n",
    "c = np.dot(D, X.T)\n",
    "print X.shape, D.shape, c.shape"
   ]
  },
  {
   "cell_type": "code",
   "execution_count": 49,
   "metadata": {
    "collapsed": false
   },
   "outputs": [],
   "source": [
    "X_mn = np.mean(X, 0)\n",
    "X = X - np.repeat(X_mn.reshape(1, -1), X.shape[0], 0)"
   ]
  },
  {
   "cell_type": "code",
   "execution_count": 56,
   "metadata": {
    "collapsed": false
   },
   "outputs": [
    {
     "data": {
      "text/plain": [
       "array([[  1.00000000e+00,  -1.11022302e-16,   5.55111512e-17, ...,\n",
       "          7.45931095e-17,   5.55111512e-17,  -1.79543880e-16],\n",
       "       [ -1.11022302e-16,   1.00000000e+00,  -9.71445147e-17, ...,\n",
       "         -2.12503626e-17,  -2.01227923e-16,   1.53306187e-16],\n",
       "       [  5.55111512e-17,  -9.71445147e-17,   1.00000000e+00, ...,\n",
       "         -6.93889390e-17,  -5.55111512e-17,   1.70002901e-16],\n",
       "       ..., \n",
       "       [  7.45931095e-17,  -2.12503626e-17,  -6.93889390e-17, ...,\n",
       "          1.00000000e+00,   3.05311332e-16,  -1.45716772e-16],\n",
       "       [  5.55111512e-17,  -2.01227923e-16,  -5.55111512e-17, ...,\n",
       "          3.05311332e-16,   1.00000000e+00,   1.94289029e-16],\n",
       "       [ -1.79543880e-16,   1.53306187e-16,   1.70002901e-16, ...,\n",
       "         -1.45716772e-16,   1.94289029e-16,   1.00000000e+00]])"
      ]
     },
     "execution_count": 56,
     "metadata": {},
     "output_type": "execute_result"
    }
   ],
   "source": [
    "np.dot(D, D.T)"
   ]
  },
  {
   "cell_type": "code",
   "execution_count": 51,
   "metadata": {
    "collapsed": false
   },
   "outputs": [],
   "source": [
    "r_im = (np.dot(D.T, c) + X_mn.reshape(X_mn.shape[0],1)).T"
   ]
  },
  {
   "cell_type": "code",
   "execution_count": 52,
   "metadata": {
    "collapsed": false
   },
   "outputs": [
    {
     "data": {
      "text/plain": [
       "(54528, 256)"
      ]
     },
     "execution_count": 52,
     "metadata": {},
     "output_type": "execute_result"
    }
   ],
   "source": [
    "r_im.shape"
   ]
  },
  {
   "cell_type": "code",
   "execution_count": 53,
   "metadata": {
    "collapsed": false
   },
   "outputs": [],
   "source": [
    "import matplotlib.pyplot as plt"
   ]
  },
  {
   "cell_type": "code",
   "execution_count": 54,
   "metadata": {
    "collapsed": false
   },
   "outputs": [],
   "source": [
    "Stitch = []\n",
    "for i in range(0,16):\n",
    "    Stitch.append(r_im[i*16].reshape(16,16))\n",
    "    for j in range(1,16):\n",
    "        Stitch[i] = np.hstack((Stitch[i], r_im[i*16 +j].reshape(16,16)))\n",
    "    \n",
    "for i in range(1,len(Stitch)):\n",
    "    Stitch[0] = np.vstack((Stitch[0], Stitch[i]))\n",
    "    \n",
    "plt.imshow(Stitch[0], cmap=plt.gray())\n",
    "plt.show()"
   ]
  },
  {
   "cell_type": "code",
   "execution_count": 21,
   "metadata": {
    "collapsed": false
   },
   "outputs": [
    {
     "name": "stdout",
     "output_type": "stream",
     "text": [
      "0\n",
      "0 1\n",
      "0 2\n",
      "0 3\n",
      "4\n",
      "4 5\n",
      "4 6\n",
      "4 7\n",
      "8\n",
      "8 9\n",
      "8 10\n",
      "8 11\n",
      "12\n",
      "12 13\n",
      "12 14\n",
      "12 15\n"
     ]
    }
   ],
   "source": [
    "Stitch = []\n",
    "\n",
    "for i in range(0,4):\n",
    "    Stitch.append(D.T[i*4].reshape(16,16))\n",
    "    print i*4\n",
    "    for j in range(1,4):\n",
    "        print i*4, i*4 + j\n",
    "        Stitch[i] = np.hstack((Stitch[i], D.T[i*4 +j].reshape(16,16)))"
   ]
  },
  {
   "cell_type": "code",
   "execution_count": 22,
   "metadata": {
    "collapsed": true
   },
   "outputs": [],
   "source": [
    "# im_new = N.neibs2images(neibs, (16,16), (256,256))"
   ]
  },
  {
   "cell_type": "code",
   "execution_count": 23,
   "metadata": {
    "collapsed": true
   },
   "outputs": [],
   "source": [
    "# inv_window = theano.function([neibs], im_new)"
   ]
  },
  {
   "cell_type": "code",
   "execution_count": 24,
   "metadata": {
    "collapsed": false
   },
   "outputs": [],
   "source": [
    "# im_new_val = inv_window(y)"
   ]
  },
  {
   "cell_type": "code",
   "execution_count": 25,
   "metadata": {
    "collapsed": false
   },
   "outputs": [],
   "source": [
    "# Y = Image.fromarray(inv_window(y))"
   ]
  },
  {
   "cell_type": "code",
   "execution_count": 26,
   "metadata": {
    "collapsed": true
   },
   "outputs": [],
   "source": [
    "# Y.show()"
   ]
  },
  {
   "cell_type": "code",
   "execution_count": 27,
   "metadata": {
    "collapsed": false
   },
   "outputs": [],
   "source": [
    "# Stitch = []"
   ]
  },
  {
   "cell_type": "code",
   "execution_count": 28,
   "metadata": {
    "collapsed": false
   },
   "outputs": [],
   "source": [
    "# D_Prime = y[:16]"
   ]
  },
  {
   "cell_type": "code",
   "execution_count": 29,
   "metadata": {
    "collapsed": false
   },
   "outputs": [],
   "source": [
    "# D_Prime.shape"
   ]
  },
  {
   "cell_type": "code",
   "execution_count": 30,
   "metadata": {
    "collapsed": false
   },
   "outputs": [],
   "source": [
    "# for i in range(1,len(Stitch)):\n",
    "#     Stitch[0] = np.vstack((Stitch[0], Stitch[i]))"
   ]
  },
  {
   "cell_type": "code",
   "execution_count": 31,
   "metadata": {
    "collapsed": false
   },
   "outputs": [],
   "source": [
    "# D1 = D.T[0].reshape(16,16)"
   ]
  },
  {
   "cell_type": "code",
   "execution_count": 32,
   "metadata": {
    "collapsed": false
   },
   "outputs": [],
   "source": [
    "# plt.imshow(Stitch[0], cmap=plt.gray())\n",
    "# plt.show()"
   ]
  },
  {
   "cell_type": "code",
   "execution_count": 33,
   "metadata": {
    "collapsed": false
   },
   "outputs": [],
   "source": [
    "# Y = Image.fromarray(Stitch[0])\n",
    "# Y.show()"
   ]
  },
  {
   "cell_type": "code",
   "execution_count": null,
   "metadata": {
    "collapsed": true
   },
   "outputs": [],
   "source": []
  },
  {
   "cell_type": "code",
   "execution_count": null,
   "metadata": {
    "collapsed": true
   },
   "outputs": [],
   "source": []
  }
 ],
 "metadata": {
  "kernelspec": {
   "display_name": "Python 2",
   "language": "python",
   "name": "python2"
  },
  "language_info": {
   "codemirror_mode": {
    "name": "ipython",
    "version": 2
   },
   "file_extension": ".py",
   "mimetype": "text/x-python",
   "name": "python",
   "nbconvert_exporter": "python",
   "pygments_lexer": "ipython2",
   "version": "2.7.11"
  }
 },
 "nbformat": 4,
 "nbformat_minor": 0
}
