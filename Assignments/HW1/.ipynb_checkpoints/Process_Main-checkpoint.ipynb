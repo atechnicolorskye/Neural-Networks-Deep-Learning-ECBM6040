{
 "cells": [
  {
   "cell_type": "code",
   "execution_count": 1,
   "metadata": {
    "collapsed": true
   },
   "outputs": [],
   "source": [
    "from os import chdir, getcwd, walk\n",
    "import numpy as np\n",
    "import matplotlib as mpl\n",
    "mpl.use('Agg')\n",
    "import matplotlib.pyplot as plt\n",
    "import matplotlib.cm as cm\n",
    "\n",
    "from PIL import Image\n",
    "\n",
    "import theano\n",
    "import theano.tensor as T\n",
    "from theano.tensor.nnet.neighbours import images2neibs, neibs2images"
   ]
  },
  {
   "cell_type": "code",
   "execution_count": 16,
   "metadata": {
    "collapsed": true
   },
   "outputs": [],
   "source": [
    "def main():\n",
    "    '''\n",
    "    Read here all images(grayscale) from jaffe folder\n",
    "    into an numpy array Ims with size (no_images, height, width).\n",
    "    Make sure the images are read after sorting the filenames\n",
    "    '''\n",
    "    # Set correct CWD \n",
    "    # chdir(getcwd() + '/jaffe')\n",
    "\n",
    "    # List to contain the names of the images\n",
    "    I_Names = []\n",
    "\n",
    "    # Add all names of images to the list\n",
    "    for root, dirs, files in walk(getcwd()):\n",
    "        for file in files:\n",
    "            if '.tiff' in file:\n",
    "                I_Names.append(file)\n",
    "\n",
    "    I_Zero = Image.open(I_Names[0])\n",
    "    (H,W) = I_Zero.size\n",
    "\n",
    "    # Array to store the images\n",
    "    I_Array = np.empty(shape=(len(I_Names), H, W), dtype='int32')\n",
    "\n",
    "    # Fill array with images\n",
    "    for i in range(len(I_Names)):\n",
    "        Im = Image.open(I_Names[i])\n",
    "        I_Array[i] = np.int32(np.array(Im))\n",
    "\n",
    "    szs = [16, 32, 64]\n",
    "    num_coeffs = [range(1, 10, 1), range(3, 30, 3), range(5, 50, 5)]\n",
    "\n",
    "    for sz, nc in zip(szs, num_coeffs):\n",
    "\n",
    "        '''\n",
    "        Divide here each image into non-overlapping blocks of shape (sz, sz).\n",
    "        Flatten each block and arrange all the blocks in a\n",
    "        (no_images*n_blocks_in_image) x (sz*sz) matrix called X\n",
    "        '''\n",
    "\n",
    "        # Defining variables\n",
    "        images = theano.tensor.tensor4('images')\n",
    "        i2n = images2neibs(images, neib_shape=(sz, sz))\n",
    "\n",
    "        # Constructing the Theano function\n",
    "        window_function = theano.function([images], i2n)\n",
    "\n",
    "        # Apply function to first image\n",
    "        X_Test = window_function(I_Array[0].reshape(1,1,H,W))\n",
    "        \n",
    "        \n",
    "        # Apply function to remaining images and stack them to form X\n",
    "        for i in range(1, len(I_Names)):\n",
    "            Y = window_function(I_Array[i].reshape(1,1,H,W))\n",
    "            X_Test = np.vstack((X_Test, Y))\n",
    "\n",
    "        # Apply function to everything\n",
    "        X = window_function(I_Array.reshape(213,1,H,W))\n",
    "        \n",
    "        if X_Test == X:\n",
    "            print True\n",
    "            \n",
    "        X_mn = np.mean(X, 0)\n",
    "        X = X - np.repeat(X_mn.reshape(1, -1), X.shape[0], 0)\n",
    "        print X.shape, X_mn.shape\n",
    "\n",
    "        '''\n",
    "        Perform eigendecomposition on X^T X and arrange the eigenvectors\n",
    "        in decreasing order of eigenvalues into a matrix D\n",
    "        '''\n",
    "\n",
    "        X_T_X = np.dot(X.T, X)\n",
    "        \n",
    "        EigVal, EigVec = np.linalg.eigh(X_T_X)\n",
    "        D = EigVec[::-1]\n",
    "\n",
    "        c = np.dot(D.T, X.T)\n",
    "\n",
    "        print D.shape, c.shape\n",
    "\n",
    "        for i in range(0, 200, 10):\n",
    "            return plot_mul(c, D, i, X_mn.reshape((sz, sz)), num_coeffs=nc, n_blocks=int(256/sz))\n",
    "            break\n",
    "\n",
    "#         plot_top_16(D, sz, imname='output/hw1a_top16_{0}.png'.format(sz))"
   ]
  },
  {
   "cell_type": "code",
   "execution_count": 17,
   "metadata": {
    "collapsed": true
   },
   "outputs": [],
   "source": [
    "def plot_mul(c, D, im_num, X_mn, num_coeffs, n_blocks):\n",
    "    '''\n",
    "    Plots nine PCA reconstructions of a particular image using number\n",
    "    of components specified by num_coeffs\n",
    "\n",
    "    Parameters\n",
    "    ---------------\n",
    "    c: np.ndarray\n",
    "        a n x m matrix  representing the coefficients of all the image blocks.\n",
    "        n represents the maximum dimension of the PCA space.\n",
    "        m is (number of images x n_blocks**2)\n",
    "\n",
    "    D: np.ndarray\n",
    "        an N x n matrix representing the basis vectors of the PCA space\n",
    "        N is the dimension of the original space (number of pixels in a block)\n",
    "\n",
    "    im_num: Integer\n",
    "        index of the image to visualize\n",
    "\n",
    "    X_mn: np.ndarray\n",
    "        a matrix representing the mean block.\n",
    "\n",
    "    num_coeffs: Iterable\n",
    "        an iterable with 9 elements representing the number_of coefficients\n",
    "        to use for reconstruction for each of the 9 plots\n",
    "\n",
    "    n_blocks: Integer\n",
    "        number of blocks comprising the image in each direction.\n",
    "        For example, for a 256x256 image divided into 64x64 blocks, n_blocks will be 4\n",
    "    '''\n",
    "    f, axarr = plt.subplots(3, 3)\n",
    "\n",
    "    for i in range(3):\n",
    "        for j in range(3):\n",
    "            nc = num_coeffs[i*3+j]\n",
    "            cij = c[:nc, n_blocks*n_blocks*im_num:n_blocks*n_blocks*(im_num+1)]\n",
    "            Dij = D[:, :nc]\n",
    "            print axarr[i, j]\n",
    "            return cij, Dij, n_blocks, X_mn, axarr[i, j]\n",
    "#             plot(cij, Dij, n_blocks, X_mn, axarr[i, j])\n",
    "\n",
    "    f.savefig('output/hw1a_{0}_im{1}.png'.format(n_blocks, im_num))\n",
    "    plt.close(f)"
   ]
  },
  {
   "cell_type": "code",
   "execution_count": 18,
   "metadata": {
    "collapsed": true
   },
   "outputs": [],
   "source": [
    "def plot(c, D, n_blocks, X_mn, ax):\n",
    "    '''\n",
    "    Plots a reconstruction of a particular image using D as the basis matrix and coeffiecient\n",
    "    vectors from c\n",
    "\n",
    "    Parameters\n",
    "    ------------------------\n",
    "        c: np.ndarray\n",
    "            a l x m matrix  representing the coefficients of all blocks in a particular image\n",
    "            l represents the dimension of the PCA space used for reconstruction\n",
    "            m represents the number of blocks in an image\n",
    "\n",
    "        D: np.ndarray\n",
    "            an N x l matrix representing l basis vectors of the PCA space\n",
    "            N is the dimension of the original space (number of pixels in a block)\n",
    "\n",
    "        n_blocks: Integer\n",
    "            number of blocks comprising the image in each direction.\n",
    "            For example, for a 256x256 image divided into 64x64 blocks, n_blocks will be 4\n",
    "\n",
    "        X_mn: basis vectors represent the divergence from the mean so this\n",
    "            matrix should be added to all reconstructed blocks\n",
    "\n",
    "        ax: the axis on which the image will be plotted\n",
    "    '''\n",
    "    # raise NotImplementedError\n",
    "    print D.shape, c.shape\n",
    "    H,W = X_mn.shape\n",
    "    re_patch_T = np.dot(D, c) + X_mn.reshape(H * W,1)\n",
    "    re_patch = re_patch_T.T\n",
    "    print re_patch.shape\n",
    "    stream = theano.tensor.matrix('stream')\n",
    "    n2i = neibs2images(stream, (n_blocks, n_blocks), (256,256))\n",
    "    inv_window_function = theano.function([stream], n2i)\n",
    "    re_im = Image.fromarray(inv_window_function(re_patch))\n",
    "    re_im.show()"
   ]
  },
  {
   "cell_type": "code",
   "execution_count": 19,
   "metadata": {
    "collapsed": false
   },
   "outputs": [
    {
     "name": "stdout",
     "output_type": "stream",
     "text": [
      "[[ True  True  True ...,  True  True  True]\n",
      " [ True  True  True ...,  True  True  True]\n",
      " [ True  True  True ...,  True  True  True]\n",
      " ..., \n",
      " [ True  True  True ...,  True  True  True]\n",
      " [ True  True  True ...,  True  True  True]\n",
      " [ True  True  True ...,  True  True  True]]\n",
      "(54528, 256) (256,)\n",
      "(256, 256) (256, 54528)\n",
      "Axes(0.125,0.664706;0.227941x0.235294)\n"
     ]
    }
   ],
   "source": [
    "cij, Dij, n_blocks, X_mn, axarr = main()"
   ]
  },
  {
   "cell_type": "code",
   "execution_count": 6,
   "metadata": {
    "collapsed": false
   },
   "outputs": [
    {
     "data": {
      "text/plain": [
       "((1, 256), (256, 1), (16, 16))"
      ]
     },
     "execution_count": 6,
     "metadata": {},
     "output_type": "execute_result"
    }
   ],
   "source": [
    "cij.shape, Dij.shape, X_mn.shape"
   ]
  },
  {
   "cell_type": "code",
   "execution_count": 7,
   "metadata": {
    "collapsed": false
   },
   "outputs": [
    {
     "name": "stdout",
     "output_type": "stream",
     "text": [
      "(256, 256)\n"
     ]
    }
   ],
   "source": [
    "H,W = X_mn.shape\n",
    "re_patch_T = np.dot(Dij, cij) + X_mn.reshape(H * W,1)\n",
    "re_patch = re_patch_T.T\n",
    "\n",
    "print re_patch.shape"
   ]
  },
  {
   "cell_type": "code",
   "execution_count": 8,
   "metadata": {
    "collapsed": true
   },
   "outputs": [],
   "source": [
    "Stitch = []\n",
    "for i in range(0,16):\n",
    "    Stitch.append(re_patch[i*16].reshape(16,16))\n",
    "#     print i*16\n",
    "    for j in range(1,16):\n",
    "#         print i*16, i*16 + j\n",
    "        Stitch[i] = np.hstack((Stitch[i], re_patch[i*16 +j].reshape(16,16)))\n",
    "    \n",
    "for i in range(1,len(Stitch)):\n",
    "    Stitch[0] = np.vstack((Stitch[0], Stitch[i]))\n",
    "    \n",
    "plt.imshow(Stitch[0], cmap=plt.gray())\n",
    "plt.show()"
   ]
  },
  {
   "cell_type": "code",
   "execution_count": 9,
   "metadata": {
    "collapsed": false
   },
   "outputs": [],
   "source": [
    "stream = theano.tensor.matrix('stream')\n",
    "n2i = neibs2images(stream, (n_blocks, n_blocks), (256,256))\n",
    "inv_window_function = theano.function([stream], n2i)\n",
    "Z = inv_window_function(re_patch)\n",
    "re_im = Image.fromarray(Stitch[0])\n",
    "re_im.show()"
   ]
  },
  {
   "cell_type": "code",
   "execution_count": 10,
   "metadata": {
    "collapsed": false
   },
   "outputs": [
    {
     "data": {
      "text/plain": [
       "<matplotlib.image.AxesImage at 0x129e2a690>"
      ]
     },
     "execution_count": 10,
     "metadata": {},
     "output_type": "execute_result"
    }
   ],
   "source": [
    "plt.imshow(Z, cmap=plt.gray())"
   ]
  },
  {
   "cell_type": "code",
   "execution_count": 11,
   "metadata": {
    "collapsed": true
   },
   "outputs": [],
   "source": [
    "plt.show()"
   ]
  },
  {
   "cell_type": "code",
   "execution_count": 12,
   "metadata": {
    "collapsed": false
   },
   "outputs": [
    {
     "data": {
      "text/plain": [
       "array([[ 110.6790398 ,  110.28246094,  110.89126178, ...,  112.26105932,\n",
       "         112.69239408,  112.45762202],\n",
       "       [ 110.19306345,  110.57474276,  110.75070773, ...,  112.4522779 ,\n",
       "         112.52429475,  112.49076782],\n",
       "       [ 110.96179951,  110.55030246,  111.46727818, ...,  112.75791504,\n",
       "         113.11151296,  112.8059631 ],\n",
       "       ..., \n",
       "       [ 108.87468582,  109.01718044,  108.832688  , ...,  110.87025353,\n",
       "         110.81218615,  111.19601472],\n",
       "       [ 109.17044067,  109.01461046,  109.79525119, ...,  110.86577077,\n",
       "         111.61850463,  111.13974915],\n",
       "       [ 108.97682299,  109.07264648,  109.26126146, ...,  110.9879659 ,\n",
       "         111.03095252,  111.31278058]])"
      ]
     },
     "execution_count": 12,
     "metadata": {},
     "output_type": "execute_result"
    }
   ],
   "source": [
    "Stitch[0]"
   ]
  },
  {
   "cell_type": "code",
   "execution_count": 13,
   "metadata": {
    "collapsed": false
   },
   "outputs": [
    {
     "data": {
      "text/plain": [
       "array([[ 110.6790398 ,  110.28246094,  110.89126178, ...,  110.92544903,\n",
       "         111.29795847,  111.23046455],\n",
       "       [ 110.54135924,  110.36274722,  110.96883534, ...,  110.98246741,\n",
       "         111.05443625,  111.30554072],\n",
       "       [ 110.58917928,  110.33486171,  110.94189202, ...,  110.96266345,\n",
       "         111.13901785,  111.27946481],\n",
       "       ..., \n",
       "       [ 110.58273233,  110.33862115,  110.94552444, ...,  110.96533336,\n",
       "         111.12761482,  111.28298029],\n",
       "       [ 110.52582038,  110.37180846,  110.97759042, ...,  110.9889026 ,\n",
       "         111.02695192,  111.31401394],\n",
       "       [ 110.52808221,  110.37048951,  110.97631604, ...,  110.9879659 ,\n",
       "         111.03095252,  111.31278058]])"
      ]
     },
     "execution_count": 13,
     "metadata": {},
     "output_type": "execute_result"
    }
   ],
   "source": [
    "re_patch"
   ]
  },
  {
   "cell_type": "code",
   "execution_count": 14,
   "metadata": {
    "collapsed": false
   },
   "outputs": [
    {
     "data": {
      "text/plain": [
       "array([[ 110.6790398 ,  110.28246094,  110.89126178, ...,  112.26105932,\n",
       "         112.69239408,  112.45762202],\n",
       "       [ 110.19306345,  110.57474276,  110.75070773, ...,  112.4522779 ,\n",
       "         112.52429475,  112.49076782],\n",
       "       [ 110.96179951,  110.55030246,  111.46727818, ...,  112.75791504,\n",
       "         113.11151296,  112.8059631 ],\n",
       "       ..., \n",
       "       [ 108.87468582,  109.01718044,  108.832688  , ...,  110.87025353,\n",
       "         110.81218615,  111.19601472],\n",
       "       [ 109.17044067,  109.01461046,  109.79525119, ...,  110.86577077,\n",
       "         111.61850463,  111.13974915],\n",
       "       [ 108.97682299,  109.07264648,  109.26126146, ...,  110.9879659 ,\n",
       "         111.03095252,  111.31278058]])"
      ]
     },
     "execution_count": 14,
     "metadata": {},
     "output_type": "execute_result"
    }
   ],
   "source": [
    "Z"
   ]
  },
  {
   "cell_type": "code",
   "execution_count": 15,
   "metadata": {
    "collapsed": false
   },
   "outputs": [
    {
     "ename": "NameError",
     "evalue": "name 'z' is not defined",
     "output_type": "error",
     "traceback": [
      "\u001b[0;31m---------------------------------------------------------------------------\u001b[0m",
      "\u001b[0;31mNameError\u001b[0m                                 Traceback (most recent call last)",
      "\u001b[0;32m<ipython-input-15-a588a1c50c5f>\u001b[0m in \u001b[0;36m<module>\u001b[0;34m()\u001b[0m\n\u001b[0;32m----> 1\u001b[0;31m \u001b[0mz\u001b[0m\u001b[0;34m.\u001b[0m\u001b[0mshow\u001b[0m\u001b[0;34m(\u001b[0m\u001b[0;34m)\u001b[0m\u001b[0;34m\u001b[0m\u001b[0m\n\u001b[0m",
      "\u001b[0;31mNameError\u001b[0m: name 'z' is not defined"
     ]
    }
   ],
   "source": [
    "z.show()"
   ]
  },
  {
   "cell_type": "code",
   "execution_count": null,
   "metadata": {
    "collapsed": true
   },
   "outputs": [],
   "source": []
  }
 ],
 "metadata": {
  "kernelspec": {
   "display_name": "Python 2",
   "language": "python",
   "name": "python2"
  },
  "language_info": {
   "codemirror_mode": {
    "name": "ipython",
    "version": 2
   },
   "file_extension": ".py",
   "mimetype": "text/x-python",
   "name": "python",
   "nbconvert_exporter": "python",
   "pygments_lexer": "ipython2",
   "version": "2.7.11"
  }
 },
 "nbformat": 4,
 "nbformat_minor": 0
}
