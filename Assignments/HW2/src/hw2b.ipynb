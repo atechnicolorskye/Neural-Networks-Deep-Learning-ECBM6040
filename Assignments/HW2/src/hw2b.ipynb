{
 "cells": [
  {
   "cell_type": "markdown",
   "metadata": {},
   "source": [
    "# ECBM E6040 Homework 2 - Programming Problem"
   ]
  },
  {
   "cell_type": "code",
   "execution_count": 1,
   "metadata": {
    "collapsed": false
   },
   "outputs": [],
   "source": [
    "%matplotlib inline\n",
    "from hw2b import load_data, LogisticRegression, HiddenLayer, MLP\n",
    "import matplotlib.pyplot as plt"
   ]
  },
  {
   "cell_type": "code",
   "execution_count": null,
   "metadata": {
    "collapsed": true
   },
   "outputs": [],
   "source": [
    "Consulted: http://cs231n.github.io/neural-networks-1/,\n",
    "           https://www.quora.com/How-does-one-use-a-hidden-soft-max-layer-in-a-deep-neural-network"
   ]
  },
  {
   "cell_type": "markdown",
   "metadata": {},
   "source": [
    "### Bullet 2: Comparison between _tanh_ and _softmax_"
   ]
  },
  {
   "cell_type": "raw",
   "metadata": {
    "collapsed": false
   },
   "source": [
    "test_mlp(learning_rate=0.01, L1_reg=0.00, L2_reg=0.0001, n_epochs=1000,\n",
    "             batch_size=20, n_hidden=500, n_layers=2, activation=T.tanh, verbose=True)\n",
    "# Optimization complete. Best validation score of 16.147541 % obtained at iteration 421888, with test performance 18.005380 %\n",
    "\n",
    "test_mlp(learning_rate=0.01, L1_reg=0.00, L2_reg=0.0001, n_epochs=1000,\n",
    "             batch_size=20, n_hidden=500, n_layers=2, activation=T.nnet.softmax, verbose=True)\n",
    "# Optimization complete. Best validation score of 81.161202 % obtained at iteration 3296, with test performance 80.415065 %"
   ]
  },
  {
   "cell_type": "markdown",
   "metadata": {},
   "source": [
    "tanh was expected to do well as it commonly used as the activation function for hidden layers before ReLU came along. However, its inability to do better than 15% in test could be due to its activations saturating. Softmax or multinomial logistic regression does very poorly as (1) it squashes real numbers to [0,1] which disallows negative outputs and (2) it sums all outputs to 1 which could lead to very small outputs contributing little in the output layer. "
   ]
  },
  {
   "cell_type": "markdown",
   "metadata": {},
   "source": [
    "### Bullet 3: Experiment with the number of hidden layers"
   ]
  },
  {
   "cell_type": "raw",
   "metadata": {},
   "source": [
    "The default parameteres used are:\n",
    "test_mlp(learning_rate=0.01, L1_reg=0, L2_reg=1e-05, n_epochs=1000,\n",
    "         batch_size=20, n_hidden=400, n_layers=i, activation=T.tanh, verbose=True)\n",
    "where i is the number of layers\n",
    "\n",
    "Layers\n",
    "1\n",
    "Optimization complete. Best validation score of 19.918033 % obtained at iteration 260384, with test performance 22.444274 %\n",
    "2\n",
    "Optimization complete. Best validation score of 15.450820 % obtained at iteration 922880, with test performance 18.639508 %\n",
    "3\n",
    "Optimization complete. Best validation score of 15.956284 % obtained at iteration 735008, with test performance 18.282091 %\n",
    "4\n",
    "Optimization complete. Best validation score of 15.163934 % obtained at iteration 767968, with test performance 18.850884 %\n",
    "5\n",
    "Optimization complete. Best validation score of 15.464481 % obtained at iteration 1315104, with test performance 18.397387 %\n",
    "6\n",
    "Optimization complete. Best validation score of 21.475410 % obtained at iteration 46144, with test performance 23.800922 %\n",
    "7\n",
    "Optimization complete. Best validation score of 15.204918 % obtained at iteration 1812800, with test performance 18.401230 %\n",
    "8\n",
    "Optimization complete. Best validation score of 15.286885 % obtained at iteration 1189856, with test performance 18.451191 %"
   ]
  },
  {
   "cell_type": "markdown",
   "metadata": {},
   "source": [
    "Plot the result (reproducing Figure 1)"
   ]
  },
  {
   "cell_type": "code",
   "execution_count": 17,
   "metadata": {
    "collapsed": false
   },
   "outputs": [
    {
     "data": {
      "image/png": "[encoded data removed]",
      "text/plain": [
       "<matplotlib.figure.Figure at 0x109620590>"
      ]
     },
     "metadata": {},
     "output_type": "display_data"
    }
   ],
   "source": [
    "x = range(1,9)\n",
    "y = [100-22.444274, 100-18.639508, 100-18.282091, 100-18.850884, 100-18.397387, 100-23.800922, 100-18.401230, 100-18.451191]\n",
    "\n",
    "plt.plot(x, y)\n",
    "plt.plot(x, y, 'bo')\n",
    "plt.xlabel('Number of Layers') \n",
    "plt.ylabel('Test Accuracy [%]')\n",
    "plt.title('MLP on SVHN')\n",
    "plt.show()"
   ]
  },
  {
   "cell_type": "markdown",
   "metadata": {},
   "source": [
    "The test results track relatively closely to gold standard. However, there are two items of interest: (1) the test accuracy peaks at 3 layers and (2) does very badly relatively with 6 layers. I believe with more layers, the reasons might become clearer why it is so but I believe it might be due to the neural networks selecting higher and higer level features which requires a decreasing number of neurons to process. Hence, keeping the number of neurons constant might lead to overfitting thus explaining optimal test performance with 3 layers.\n"
   ]
  },
  {
   "cell_type": "markdown",
   "metadata": {},
   "source": [
    "Document the choice of parameters, and discuss what you discover."
   ]
  },
  {
   "cell_type": "raw",
   "metadata": {
    "collapsed": true
   },
   "source": [
    "All paramemters testing conducted apart from changing the number of layers uses the following command while varying the parameter in question\n",
    "test_mlp(learning_rate=0.01, L1_reg=i, L2_reg=0.0001, n_epochs=1000,\n",
    "         batch_size=20, n_hidden=500, n_layers=3, activation=T.tanh, verbose=True)\n",
    "\n",
    "Activation\n",
    "Sigmoid\n",
    "Optimization complete. Best validation score of 15.245902 % obtained at iteration 659200, with test performance 17.498078 %\n",
    "Tanh\n",
    "Optimization complete. Best validation score of 15.997268 % obtained at iteration 596576, with test performance 18.677940 %\n",
    "\n",
    "The above set of results was quite surprising as empricially tanh usually does better than the sigmoid as it is zero-centred and so is able to output negative numbers, although it still saturatess and kills gradients at the tails of -1 and 1. Maybe more hidden layers are required to demonstrate the superiority of tanh over the sigmoid.\n",
    "\n",
    "Learning Rate\n",
    "1\n",
    "Optimization complete. Best validation score of 85.942623 % obtained at iteration 6592, with test performance 84.062260 %\n",
    "0.1\n",
    "Optimization complete. Best validation score of 22.827869 % obtained at iteration 39552, with test performance 25.196003 %\n",
    "0.01\n",
    "Optimization complete. Best validation score of 15.997268 % obtained at iteration 596576, with test performance 18.677940 %\n",
    "0.001\n",
    "Optimization complete. Best validation score of 81.051913 % obtained at iteration 9888, with test performance 80.511145 %\n",
    "0.0001\n",
    "Optimization complete. Best validation score of 81.161202 % obtained at iteration 3296, with test performance 80.415065 %\n",
    "\n",
    "The above set of results show that with a too high learning rate, gradient descent is unable to find the local minimum while with a too low learning rate, not enough improvements are seen to enable the code to continue with another epoch. \n",
    "\n",
    "N Hidden\n",
    "100\n",
    "Optimization complete. Best validation score of 18.961749 % obtained at iteration 227424, with test performance 21.045350 %\n",
    "200\n",
    "Optimization complete. Best validation score of 17.622951 % obtained at iteration 810816, with test performance 21.014604 %\n",
    "300\n",
    "Optimization complete. Best validation score of 17.978142 % obtained at iteration 217536, with test performance 20.522675 %\n",
    "400\n",
    "Optimization complete. Best validation score of 16.297814 % obtained at iteration 454848, with test performance 18.654881 %\n",
    "500\n",
    "Optimization complete. Best validation score of 15.997268 % obtained at iteration 596576, with test performance 18.677940 %\n",
    "600\n",
    "Optimization complete. Best validation score of 15.614754 % obtained at iteration 540544, with test performance 18.897002 %\n",
    "700\n",
    "Optimization complete. Best validation score of 16.461749 % obtained at iteration 293344, with test performance 19.181399 %\n",
    "\n",
    "The above set of results show that empirically performance peaks with 400 neurons in the hidden layer which intuitively points to the use of deeper neural networks\n",
    "\n",
    "Epoch\n",
    "100\n",
    "Optimization complete. Best validation score of 16.680328 % obtained at iteration 329600, with test performance 18.881630 %\n",
    "The code for file hw2b.py ran for 17.83m\n",
    "200\n",
    "Optimization complete. Best validation score of 15.997268 % obtained at iteration 596576, with test performance 18.677940 %\n",
    "The code for file hw2b.py ran for 35.38m\n",
    "300\n",
    "Optimization complete. Best validation score of 15.997268 % obtained at iteration 596576, with test performance 18.677940 %\n",
    "The code for file hw2b.py ran for 36.91m\n",
    "400\n",
    "Optimization complete. Best validation score of 15.997268 % obtained at iteration 596576, with test performance 18.677940 %\n",
    "500\n",
    "Optimization complete. Best validation score of 15.997268 % obtained at iteration 596576, with test performance 18.677940 %\n",
    "Same onwards\n",
    "\n",
    "The above set of results show that the number of epochs do not matter very much for a neural network with 3 hidden layers as training is relatively fast. However, it would be good to keep in mind that with more layers, it might be beneficial to limit the number of epochs to discourage overfitting.\n",
    "\n",
    "L1\n",
    "1000\n",
    "Optimization complete. Best validation score of 90.273224 % obtained at iteration 3296, with test performance 90.303613 %\n",
    "100\n",
    "Optimization complete. Best validation score of 81.161202 % obtained at iteration 16480, with test performance 80.415065 %\n",
    "10\n",
    "Optimization complete. Best validation score of 58.237705 % obtained at iteration 19776, with test performance 59.400461 %\n",
    "1\n",
    "Optimization complete. Best validation score of 81.161202 % obtained at iteration 3296, with test performance 80.415065 %\n",
    "0.1\n",
    "Optimization complete. Best validation score of 81.161202 % obtained at iteration 3296, with test performance 80.415065 %\n",
    "0.01\n",
    "Optimization complete. Best validation score of 81.161202 % obtained at iteration 3296, with test performance 80.415065 %\n",
    "0.001\n",
    "Optimization complete. Best validation score of 81.161202 % obtained at iteration 3296, with test performance 80.415065 %\n",
    "0.0001\n",
    "Optimization complete. Best validation score of 17.199454 % obtained at iteration 151616, with test performance 19.177556 %\n",
    "\n",
    "The detrimental effect of having a non-zero lambda for L1 regularisation is shown here. Due to the complex functions that the neural networks are modeling, encouraging sparsity with non-zero lambdas would lead to lower performance as most, if not all features are required.\n",
    "\n",
    "L2\n",
    "0.01\n",
    "Optimization complete. Best validation score of 18.142077 % obtained at iteration 497696, with test performance 20.272867 %\n",
    "0.001\n",
    "Optimization complete. Best validation score of 15.464481 % obtained at iteration 774560, with test performance 17.478862 %\n",
    "0.0001\n",
    "Optimization complete. Best validation score of 15.997268 % obtained at iteration 596576, with test performance 18.677940 %\n",
    "1e-05\n",
    "Optimization complete. Best validation score of 15.081967 % obtained at iteration 698752, with test performance 18.205227 %\n",
    "\n",
    "The above set of results show that the L2 regularisation does not matter very much as mentioned in the Theano tutorial. Although a lambda of 0.001 is optimum in testing, 1e-05 was selected as the L2 lambda value for use in the rest of the homework. In deeper networks, regularisation might be less important becuase high-level features would only be built on lower-level features with larger activations which could be thought as a form of regularisation in itself."
   ]
  },
  {
   "cell_type": "markdown",
   "metadata": {},
   "source": [
    "### Bullet 4: Experiment with the number of hidden layers, but fix the total number of neurons"
   ]
  },
  {
   "cell_type": "raw",
   "metadata": {
    "collapsed": true
   },
   "source": [
    "print('Varying number of layers, fix nodes to 2400')\n",
    "    for i in [1]:\n",
    "        test_mlp(learning_rate=0.01, L1_reg=0.00, L2_reg=10**-5, n_epochs=1000,\n",
    "             batch_size=20, n_hidden=2400/i, n_layers=i, activation=T.tanh, verbose=True)\n",
    "        print('Layers', i, '| Nodes per layers', 2400/i)\n",
    "        \n",
    "Layers 1 | Nodes per layers 2400\n",
    "Optimization complete. Best validation score of 19.084699 % obtained at iteration 415296, with test performance 21.099154 %\n",
    "Layers 2 | Nodes per layers 1200\n",
    "Optimization complete. Best validation score of 14.658470 % obtained at iteration 906400, with test performance 17.705611 %\n",
    "Layers 3 | Nodes per layers 800\n",
    "Optimization complete. Best validation score of 14.562842 % obtained at iteration 929472, with test performance 17.532667 %\n",
    "Layers 4 | Nodes per layers 600\n",
    "Optimization complete. Best validation score of 15.341530 % obtained at iteration 1041536, with test performance 18.716372 %\n",
    "Layers 5 | Nodes per layers 480\n",
    "Optimization complete. Best validation score of 21.010929 % obtained at iteration 59328, with test performance 22.517294 %\n",
    "Layers 6 | Nodes per layers 400\n",
    "Optimization complete. Best validation score of 21.475410 % obtained at iteration 46144, with test performance 23.800922 %\n",
    "Layers 7 | Nodes per layers 342\n",
    "Optimization complete. Best validation score of 21.666667 % obtained at iteration 46144, with test performance 24.073789 %\n",
    "Layers 8 | Nodes per layers 300\n",
    "Optimization complete. Best validation score of 23.852459 % obtained at iteration 42848, with test performance 25.749424 %"
   ]
  },
  {
   "cell_type": "markdown",
   "metadata": {},
   "source": [
    "Plot the result (reproducing Figure 2)"
   ]
  },
  {
   "cell_type": "code",
   "execution_count": 16,
   "metadata": {
    "collapsed": false
   },
   "outputs": [
    {
     "data": {
      "image/png": "[encoded data removed]",
      "text/plain": [
       "<matplotlib.figure.Figure at 0x10914cbd0>"
      ]
     },
     "metadata": {},
     "output_type": "display_data"
    }
   ],
   "source": [
    "x = range(1,9)\n",
    "y = [100-21.099154, 100-17.705611, 100-17.532667, 100-18.716372, 100-22.517294, 100-23.800922, 100-24.073789, 100-25.749424]\n",
    "\n",
    "plt.plot(x, y)\n",
    "plt.plot(x, y, 'bo')\n",
    "plt.xlabel('Number of Layers') \n",
    "plt.ylabel('Test Accuracy [%]')\n",
    "plt.title('Effect of Number of Layers\\n Total Number of Neurons fixed to 2.4K')\n",
    "plt.show()"
   ]
  },
  {
   "cell_type": "markdown",
   "metadata": {},
   "source": [
    "Document the choice of parameters, and discuss what you discover."
   ]
  },
  {
   "cell_type": "markdown",
   "metadata": {
    "collapsed": true
   },
   "source": [
    "Here, the results seem like they shifted leftwards as compared to the gold standard, with 3 hidden layers of 800 neurons in each yielding the best overall validation and test scores. However, it is at odds to the results obtained in the previous question increasing the number of neurons in hidden layers empirically peaked at 400 neurons per layer. On why the results were shifted leftwards, it could be due to the simplistic architecture of the MLP in this case being unable to take advantage of depth of the network. Maybe having more hidden layers at the start and less at the end might yield better results as earlier discussed."
   ]
  },
  {
   "cell_type": "markdown",
   "metadata": {},
   "source": [
    "### Bullet 5: Experiment with the number of neurons in hidden layers, but fix the number of hidden layers"
   ]
  },
  {
   "cell_type": "raw",
   "metadata": {
    "collapsed": true,
    "scrolled": false
   },
   "source": [
    "print('N Hidden 1 Layer')\n",
    "    for i in [400, 800, 1200, 1600, 2000]:\n",
    "        test_mlp(learning_rate=0.01, L1_reg=0.00, L2_reg=10**-5, n_epochs=1000,\n",
    "             batch_size=20, n_hidden=i, n_layers=1, activation=T.tanh, verbose=True)\n",
    "        print('N Hidden 1 Layer', i)\n",
    "\n",
    "N Hidden 1 Layer 400\n",
    "Optimization complete. Best validation score of 19.918033 % obtained at iteration 260384, with test performance 22.444274 %\n",
    "N Hidden 1 Layer 800\n",
    "Optimization complete. Best validation score of 18.961749 % obtained at iteration 444960, with test performance 21.502690 %\n",
    "N Hidden 1 Layer 1200\n",
    "Optimization complete. Best validation score of 19.467213 % obtained at iteration 336192, with test performance 21.929285 %\n",
    "N Hidden 1 Layer 1600\n",
    "Optimization complete. Best validation score of 19.699454 % obtained at iteration 273568, with test performance 21.998463 %\n",
    "N Hidden 1 Layer 2000\n",
    "Optimization complete. Best validation score of 20.218579 % obtained at iteration 365856, with test performance 21.487317 %\n",
    "\n",
    "print('N Hidden 2 Layer')\n",
    "    for i in [400, 800, 1200, 1600, 2000]:\n",
    "        test_mlp(learning_rate=0.01, L1_reg=0.00, L2_reg=10**-5, n_epochs=1000,\n",
    "             batch_size=20, n_hidden=i, n_layers=2, activation=T.tanh, verbose=True)\n",
    "        print('N Hidden 2 Layer', i)\n",
    "\n",
    "N Hidden 2 Layers 400\n",
    "Optimization complete. Best validation score of 15.450820 % obtained at iteration 922880, with test performance 18.639508 %\n",
    "N Hidden 2 Layers 800\n",
    "Optimization complete. Best validation score of 15.956284 % obtained at iteration 563616, with test performance 18.262875 %\n",
    "N Hidden 2 Layers 1200\n",
    "Optimization complete. Best validation score of 14.658470 % obtained at iteration 906400, with test performance 17.705611 %\n",
    "N Hidden 2 Layers 1600\n",
    "Optimization complete. Best validation score of 16.325137 % obtained at iteration 194464, with test performance 18.946964 %\n",
    "N Hidden 2 Layers 2000\n",
    "Optimization complete. Best validation score of 17.158470 % obtained at iteration 161504, with test performance 19.607994 %"
   ]
  },
  {
   "cell_type": "markdown",
   "metadata": {},
   "source": [
    "Plot the result (reproducing Figure 3)"
   ]
  },
  {
   "cell_type": "code",
   "execution_count": 18,
   "metadata": {
    "collapsed": false
   },
   "outputs": [
    {
     "data": {
      "image/png": "[encoded data removed]",
      "text/plain": [
       "<matplotlib.figure.Figure at 0x109509c90>"
      ]
     },
     "metadata": {},
     "output_type": "display_data"
    }
   ],
   "source": [
    "x = [400, 800, 1200, 1600, 2000]\n",
    "y1 = [100-22.444274, 100-21.502690, 100-21.929285, 100-21.998463, 100-21.487317]\n",
    "y2 = [100-18.639508, 100-18.262875, 100-17.705611, 100-18.946964, 100-19.607994]\n",
    "\n",
    "plt.plot(x, y1, 'bo', label='1 Hidden Layer')\n",
    "plt.plot(x, y1)\n",
    "plt.plot(x, y2, 'go', label='2 Hidden Layers')\n",
    "plt.plot(x, y2)\n",
    "plt.xlabel('Number of Neurons') \n",
    "plt.ylabel('Test Accuracy [%]')\n",
    "plt.title('Effect of Number of Neurons in Hidden Layer')\n",
    "plt.legend()\n",
    "plt.show()"
   ]
  },
  {
   "cell_type": "markdown",
   "metadata": {},
   "source": [
    "Document the choice of parameters, and discuss what you discover."
   ]
  },
  {
   "cell_type": "markdown",
   "metadata": {
    "collapsed": true
   },
   "source": [
    "In the above figure, the results for 1 hidden layer tracks the gold standard in shape albeit scaled down but does not in terms of neurons as it peaks as 2000 neurons isntead of at 400 neurons. Like before, the disparity could be due to the simplistic architecture used in here as compared to the more advanced architecture used in the gold standard that is able to squeeze out much more information from fewer neuron in a hidden layer. The results from 2 hidden layers definitely points towards have deeper networks as with 400 neurons per layer and 800 total, it beats anything with 1 hidden layer. Also, 400 neurons per layer and 800 total beats 1600 and 2000 per layer and 3200 and 4000 in total respectively which could point to deeper but less wide neural networks doing better in the long run. An intersting observation is that having 2000 neurons per layer and 2000 has really close validation and test scores."
   ]
  },
  {
   "cell_type": "code",
   "execution_count": null,
   "metadata": {
    "collapsed": true
   },
   "outputs": [],
   "source": []
  }
 ],
 "metadata": {
  "kernelspec": {
   "display_name": "Python 2",
   "language": "python",
   "name": "python2"
  },
  "language_info": {
   "codemirror_mode": {
    "name": "ipython",
    "version": 2
   },
   "file_extension": ".py",
   "mimetype": "text/x-python",
   "name": "python",
   "nbconvert_exporter": "python",
   "pygments_lexer": "ipython2",
   "version": "2.7.11"
  }
 },
 "nbformat": 4,
 "nbformat_minor": 0
}
