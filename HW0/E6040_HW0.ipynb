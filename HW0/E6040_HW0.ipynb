{
 "cells": [
  {
   "cell_type": "code",
   "execution_count": 1,
   "metadata": {
    "collapsed": false
   },
   "outputs": [
    {
     "name": "stdout",
     "output_type": "stream",
     "text": [
      "env: THEANO_FLAGS='device=cpu'\n"
     ]
    }
   ],
   "source": [
    "%env THEANO_FLAGS='device=cpu'"
   ]
  },
  {
   "cell_type": "code",
   "execution_count": 2,
   "metadata": {
    "collapsed": false
   },
   "outputs": [
    {
     "data": {
      "text/plain": [
       "'cpu'"
      ]
     },
     "execution_count": 2,
     "metadata": {},
     "output_type": "execute_result"
    }
   ],
   "source": [
    "import theano\n",
    "theano.config.device"
   ]
  },
  {
   "cell_type": "code",
   "execution_count": 1,
   "metadata": {
    "collapsed": false
   },
   "outputs": [
    {
     "name": "stderr",
     "output_type": "stream",
     "text": [
      "Using gpu device 0: GRID K520\n"
     ]
    },
    {
     "data": {
      "text/plain": [
       "'gpu'"
      ]
     },
     "execution_count": 1,
     "metadata": {},
     "output_type": "execute_result"
    }
   ],
   "source": [
    "import theano\n",
    "theano.config.device"
   ]
  },
  {
   "cell_type": "code",
   "execution_count": 2,
   "metadata": {
    "collapsed": true
   },
   "outputs": [],
   "source": [
    "import os"
   ]
  },
  {
   "cell_type": "code",
   "execution_count": 3,
   "metadata": {
    "collapsed": false
   },
   "outputs": [],
   "source": [
    "os.chdir('/home/ubuntu/Ext/DeepLearningTutorials/code')"
   ]
  },
  {
   "cell_type": "code",
   "execution_count": 4,
   "metadata": {
    "collapsed": false
   },
   "outputs": [
    {
     "data": {
      "text/plain": [
       "'/home/ubuntu/Ext/DeepLearningTutorials/code'"
      ]
     },
     "execution_count": 4,
     "metadata": {},
     "output_type": "execute_result"
    }
   ],
   "source": [
    "os.getcwd()"
   ]
  },
  {
   "cell_type": "code",
   "execution_count": 5,
   "metadata": {
    "collapsed": false
   },
   "outputs": [],
   "source": [
    "import timeit"
   ]
  },
  {
   "cell_type": "code",
   "execution_count": 7,
   "metadata": {
    "collapsed": false
   },
   "outputs": [],
   "source": [
    "# import logistic_sgd as LSGD"
   ]
  },
  {
   "cell_type": "code",
   "execution_count": 8,
   "metadata": {
    "collapsed": false
   },
   "outputs": [
    {
     "name": "stdout",
     "output_type": "stream",
     "text": [
      "... loading data\n",
      "... building the model\n",
      "... training the model\n",
      "epoch 1, minibatch 83/83, validation error 12.458333 %\n",
      "     epoch 1, minibatch 83/83, test error of best model 12.375000 %\n",
      "epoch 2, minibatch 83/83, validation error 11.010417 %\n",
      "     epoch 2, minibatch 83/83, test error of best model 10.958333 %\n",
      "epoch 3, minibatch 83/83, validation error 10.312500 %\n",
      "     epoch 3, minibatch 83/83, test error of best model 10.312500 %\n",
      "epoch 4, minibatch 83/83, validation error 9.875000 %\n",
      "     epoch 4, minibatch 83/83, test error of best model 9.833333 %\n",
      "epoch 5, minibatch 83/83, validation error 9.562500 %\n",
      "     epoch 5, minibatch 83/83, test error of best model 9.479167 %\n",
      "epoch 6, minibatch 83/83, validation error 9.322917 %\n",
      "     epoch 6, minibatch 83/83, test error of best model 9.291667 %\n",
      "epoch 7, minibatch 83/83, validation error 9.187500 %\n",
      "     epoch 7, minibatch 83/83, test error of best model 9.000000 %\n",
      "epoch 8, minibatch 83/83, validation error 8.989583 %\n",
      "     epoch 8, minibatch 83/83, test error of best model 8.958333 %\n",
      "epoch 9, minibatch 83/83, validation error 8.937500 %\n",
      "     epoch 9, minibatch 83/83, test error of best model 8.812500 %\n",
      "epoch 10, minibatch 83/83, validation error 8.750000 %\n",
      "     epoch 10, minibatch 83/83, test error of best model 8.666667 %\n",
      "epoch 11, minibatch 83/83, validation error 8.666667 %\n",
      "     epoch 11, minibatch 83/83, test error of best model 8.520833 %\n",
      "epoch 12, minibatch 83/83, validation error 8.583333 %\n",
      "     epoch 12, minibatch 83/83, test error of best model 8.416667 %\n",
      "epoch 13, minibatch 83/83, validation error 8.489583 %\n",
      "     epoch 13, minibatch 83/83, test error of best model 8.291667 %\n",
      "epoch 14, minibatch 83/83, validation error 8.427083 %\n",
      "     epoch 14, minibatch 83/83, test error of best model 8.281250 %\n",
      "epoch 15, minibatch 83/83, validation error 8.354167 %\n",
      "     epoch 15, minibatch 83/83, test error of best model 8.270833 %\n",
      "epoch 16, minibatch 83/83, validation error 8.302083 %\n",
      "     epoch 16, minibatch 83/83, test error of best model 8.239583 %\n",
      "epoch 17, minibatch 83/83, validation error 8.250000 %\n",
      "     epoch 17, minibatch 83/83, test error of best model 8.177083 %\n",
      "epoch 18, minibatch 83/83, validation error 8.229167 %\n",
      "     epoch 18, minibatch 83/83, test error of best model 8.062500 %\n",
      "epoch 19, minibatch 83/83, validation error 8.260417 %\n",
      "epoch 20, minibatch 83/83, validation error 8.260417 %\n",
      "epoch 21, minibatch 83/83, validation error 8.208333 %\n",
      "     epoch 21, minibatch 83/83, test error of best model 7.947917 %\n",
      "epoch 22, minibatch 83/83, validation error 8.187500 %\n",
      "     epoch 22, minibatch 83/83, test error of best model 7.927083 %\n",
      "epoch 23, minibatch 83/83, validation error 8.156250 %\n",
      "     epoch 23, minibatch 83/83, test error of best model 7.958333 %\n",
      "epoch 24, minibatch 83/83, validation error 8.114583 %\n",
      "     epoch 24, minibatch 83/83, test error of best model 7.947917 %\n",
      "epoch 25, minibatch 83/83, validation error 8.093750 %\n",
      "     epoch 25, minibatch 83/83, test error of best model 7.947917 %\n",
      "epoch 26, minibatch 83/83, validation error 8.104167 %\n",
      "epoch 27, minibatch 83/83, validation error 8.104167 %\n",
      "epoch 28, minibatch 83/83, validation error 8.052083 %\n",
      "     epoch 28, minibatch 83/83, test error of best model 7.843750 %\n",
      "epoch 29, minibatch 83/83, validation error 8.052083 %\n",
      "epoch 30, minibatch 83/83, validation error 8.031250 %\n",
      "     epoch 30, minibatch 83/83, test error of best model 7.843750 %\n",
      "epoch 31, minibatch 83/83, validation error 8.010417 %\n",
      "     epoch 31, minibatch 83/83, test error of best model 7.833333 %\n",
      "epoch 32, minibatch 83/83, validation error 7.979167 %\n",
      "     epoch 32, minibatch 83/83, test error of best model 7.812500 %\n",
      "epoch 33, minibatch 83/83, validation error 7.947917 %\n",
      "     epoch 33, minibatch 83/83, test error of best model 7.739583 %\n",
      "epoch 34, minibatch 83/83, validation error 7.875000 %\n",
      "     epoch 34, minibatch 83/83, test error of best model 7.729167 %\n",
      "epoch 35, minibatch 83/83, validation error 7.885417 %\n",
      "epoch 36, minibatch 83/83, validation error 7.843750 %\n",
      "     epoch 36, minibatch 83/83, test error of best model 7.697917 %\n",
      "epoch 37, minibatch 83/83, validation error 7.802083 %\n",
      "     epoch 37, minibatch 83/83, test error of best model 7.635417 %\n",
      "epoch 38, minibatch 83/83, validation error 7.812500 %\n",
      "epoch 39, minibatch 83/83, validation error 7.812500 %\n",
      "epoch 40, minibatch 83/83, validation error 7.822917 %\n",
      "epoch 41, minibatch 83/83, validation error 7.791667 %\n",
      "     epoch 41, minibatch 83/83, test error of best model 7.625000 %\n",
      "epoch 42, minibatch 83/83, validation error 7.770833 %\n",
      "     epoch 42, minibatch 83/83, test error of best model 7.614583 %\n",
      "epoch 43, minibatch 83/83, validation error 7.750000 %\n",
      "     epoch 43, minibatch 83/83, test error of best model 7.593750 %\n",
      "epoch 44, minibatch 83/83, validation error 7.739583 %\n",
      "     epoch 44, minibatch 83/83, test error of best model 7.593750 %\n",
      "epoch 45, minibatch 83/83, validation error 7.739583 %\n",
      "epoch 46, minibatch 83/83, validation error 7.739583 %\n",
      "epoch 47, minibatch 83/83, validation error 7.739583 %\n",
      "epoch 48, minibatch 83/83, validation error 7.708333 %\n",
      "     epoch 48, minibatch 83/83, test error of best model 7.583333 %\n",
      "epoch 49, minibatch 83/83, validation error 7.677083 %\n",
      "     epoch 49, minibatch 83/83, test error of best model 7.572917 %\n",
      "epoch 50, minibatch 83/83, validation error 7.677083 %\n",
      "epoch 51, minibatch 83/83, validation error 7.677083 %\n",
      "epoch 52, minibatch 83/83, validation error 7.656250 %\n",
      "     epoch 52, minibatch 83/83, test error of best model 7.541667 %\n",
      "epoch 53, minibatch 83/83, validation error 7.656250 %\n",
      "epoch 54, minibatch 83/83, validation error 7.635417 %\n",
      "     epoch 54, minibatch 83/83, test error of best model 7.520833 %\n",
      "epoch 55, minibatch 83/83, validation error 7.635417 %\n",
      "epoch 56, minibatch 83/83, validation error 7.635417 %\n",
      "epoch 57, minibatch 83/83, validation error 7.604167 %\n",
      "     epoch 57, minibatch 83/83, test error of best model 7.489583 %\n",
      "epoch 58, minibatch 83/83, validation error 7.583333 %\n",
      "     epoch 58, minibatch 83/83, test error of best model 7.458333 %\n",
      "epoch 59, minibatch 83/83, validation error 7.572917 %\n",
      "     epoch 59, minibatch 83/83, test error of best model 7.468750 %\n",
      "epoch 60, minibatch 83/83, validation error 7.572917 %\n",
      "epoch 61, minibatch 83/83, validation error 7.583333 %\n",
      "epoch 62, minibatch 83/83, validation error 7.572917 %\n",
      "     epoch 62, minibatch 83/83, test error of best model 7.520833 %\n",
      "epoch 63, minibatch 83/83, validation error 7.562500 %\n",
      "     epoch 63, minibatch 83/83, test error of best model 7.510417 %\n",
      "epoch 64, minibatch 83/83, validation error 7.572917 %\n",
      "epoch 65, minibatch 83/83, validation error 7.562500 %\n",
      "epoch 66, minibatch 83/83, validation error 7.552083 %\n",
      "     epoch 66, minibatch 83/83, test error of best model 7.520833 %\n",
      "epoch 67, minibatch 83/83, validation error 7.552083 %\n",
      "epoch 68, minibatch 83/83, validation error 7.531250 %\n",
      "     epoch 68, minibatch 83/83, test error of best model 7.520833 %\n",
      "epoch 69, minibatch 83/83, validation error 7.531250 %\n",
      "epoch 70, minibatch 83/83, validation error 7.510417 %\n",
      "     epoch 70, minibatch 83/83, test error of best model 7.500000 %\n",
      "epoch 71, minibatch 83/83, validation error 7.520833 %\n",
      "epoch 72, minibatch 83/83, validation error 7.510417 %\n",
      "epoch 73, minibatch 83/83, validation error 7.500000 %\n",
      "     epoch 73, minibatch 83/83, test error of best model 7.489583 %\n",
      "Optimization complete with best validation score of 7.500000 %,with test performance 7.489583 %\n",
      "The code run for 74 epochs, with 3.280810 epochs/sec\n",
      "24.971668005\n"
     ]
    },
    {
     "name": "stderr",
     "output_type": "stream",
     "text": [
      "The code for file logistic_sgd.py ran for 22.6s\n"
     ]
    }
   ],
   "source": [
    "start = timeit.default_timer()\n",
    "# LSGD.sgd_optimization_mnist()\n",
    "%run logistic_sgd.py\n",
    "end = timeit.default_timer()\n",
    "print (end - start)"
   ]
  },
  {
   "cell_type": "code",
   "execution_count": 9,
   "metadata": {
    "collapsed": false
   },
   "outputs": [],
   "source": [
    "# import convolutional_mlp as CMLP"
   ]
  },
  {
   "cell_type": "code",
   "execution_count": 11,
   "metadata": {
    "collapsed": false
   },
   "outputs": [
    {
     "name": "stdout",
     "output_type": "stream",
     "text": [
      "... loading data\n",
      "... building the model\n",
      "... training\n",
      "training @ iter =  0\n",
      "epoch 1, minibatch 100/100, validation error 9.230000 %\n",
      "     epoch 1, minibatch 100/100, test error of best model 9.520000 %\n",
      "training @ iter =  100\n",
      "epoch 2, minibatch 100/100, validation error 6.180000 %\n",
      "     epoch 2, minibatch 100/100, test error of best model 6.500000 %\n",
      "training @ iter =  200\n",
      "epoch 3, minibatch 100/100, validation error 4.640000 %\n",
      "     epoch 3, minibatch 100/100, test error of best model 4.850000 %\n",
      "training @ iter =  300\n",
      "epoch 4, minibatch 100/100, validation error 3.500000 %\n",
      "     epoch 4, minibatch 100/100, test error of best model 3.910000 %\n",
      "training @ iter =  400\n",
      "epoch 5, minibatch 100/100, validation error 3.020000 %\n",
      "     epoch 5, minibatch 100/100, test error of best model 3.260000 %\n",
      "training @ iter =  500\n"
     ]
    },
    {
     "ename": "KeyboardInterrupt",
     "evalue": "",
     "output_type": "error",
     "traceback": [
      "\u001b[1;31m---------------------------------------------------------------------------\u001b[0m",
      "\u001b[1;31mKeyboardInterrupt\u001b[0m                         Traceback (most recent call last)",
      "\u001b[1;32m/home/ubuntu/Ext/DeepLearningTutorials/code/convolutional_mlp.py\u001b[0m in \u001b[0;36m<module>\u001b[1;34m()\u001b[0m\n\u001b[0;32m    340\u001b[0m \u001b[1;33m\u001b[0m\u001b[0m\n\u001b[0;32m    341\u001b[0m \u001b[1;32mif\u001b[0m \u001b[0m__name__\u001b[0m \u001b[1;33m==\u001b[0m \u001b[1;34m'__main__'\u001b[0m\u001b[1;33m:\u001b[0m\u001b[1;33m\u001b[0m\u001b[0m\n\u001b[1;32m--> 342\u001b[1;33m     \u001b[0mevaluate_lenet5\u001b[0m\u001b[1;33m(\u001b[0m\u001b[1;33m)\u001b[0m\u001b[1;33m\u001b[0m\u001b[0m\n\u001b[0m\u001b[0;32m    343\u001b[0m \u001b[1;33m\u001b[0m\u001b[0m\n\u001b[0;32m    344\u001b[0m \u001b[1;33m\u001b[0m\u001b[0m\n",
      "\u001b[1;32m/home/ubuntu/Ext/DeepLearningTutorials/code/convolutional_mlp.py\u001b[0m in \u001b[0;36mevaluate_lenet5\u001b[1;34m(learning_rate, n_epochs, dataset, nkerns, batch_size)\u001b[0m\n\u001b[0;32m    291\u001b[0m             \u001b[1;32mif\u001b[0m \u001b[0miter\u001b[0m \u001b[1;33m%\u001b[0m \u001b[1;36m100\u001b[0m \u001b[1;33m==\u001b[0m \u001b[1;36m0\u001b[0m\u001b[1;33m:\u001b[0m\u001b[1;33m\u001b[0m\u001b[0m\n\u001b[0;32m    292\u001b[0m                 \u001b[1;32mprint\u001b[0m \u001b[1;34m'training @ iter = '\u001b[0m\u001b[1;33m,\u001b[0m \u001b[0miter\u001b[0m\u001b[1;33m\u001b[0m\u001b[0m\n\u001b[1;32m--> 293\u001b[1;33m             \u001b[0mcost_ij\u001b[0m \u001b[1;33m=\u001b[0m \u001b[0mtrain_model\u001b[0m\u001b[1;33m(\u001b[0m\u001b[0mminibatch_index\u001b[0m\u001b[1;33m)\u001b[0m\u001b[1;33m\u001b[0m\u001b[0m\n\u001b[0m\u001b[0;32m    294\u001b[0m \u001b[1;33m\u001b[0m\u001b[0m\n\u001b[0;32m    295\u001b[0m             \u001b[1;32mif\u001b[0m \u001b[1;33m(\u001b[0m\u001b[0miter\u001b[0m \u001b[1;33m+\u001b[0m \u001b[1;36m1\u001b[0m\u001b[1;33m)\u001b[0m \u001b[1;33m%\u001b[0m \u001b[0mvalidation_frequency\u001b[0m \u001b[1;33m==\u001b[0m \u001b[1;36m0\u001b[0m\u001b[1;33m:\u001b[0m\u001b[1;33m\u001b[0m\u001b[0m\n",
      "\u001b[1;32m/home/ubuntu/miniconda2/envs/theano/lib/python2.7/site-packages/theano/compile/function_module.pyc\u001b[0m in \u001b[0;36m__call__\u001b[1;34m(self, *args, **kwargs)\u001b[0m\n\u001b[0;32m    593\u001b[0m         \u001b[0mt0_fn\u001b[0m \u001b[1;33m=\u001b[0m \u001b[0mtime\u001b[0m\u001b[1;33m.\u001b[0m\u001b[0mtime\u001b[0m\u001b[1;33m(\u001b[0m\u001b[1;33m)\u001b[0m\u001b[1;33m\u001b[0m\u001b[0m\n\u001b[0;32m    594\u001b[0m         \u001b[1;32mtry\u001b[0m\u001b[1;33m:\u001b[0m\u001b[1;33m\u001b[0m\u001b[0m\n\u001b[1;32m--> 595\u001b[1;33m             \u001b[0moutputs\u001b[0m \u001b[1;33m=\u001b[0m \u001b[0mself\u001b[0m\u001b[1;33m.\u001b[0m\u001b[0mfn\u001b[0m\u001b[1;33m(\u001b[0m\u001b[1;33m)\u001b[0m\u001b[1;33m\u001b[0m\u001b[0m\n\u001b[0m\u001b[0;32m    596\u001b[0m         \u001b[1;32mexcept\u001b[0m \u001b[0mException\u001b[0m\u001b[1;33m:\u001b[0m\u001b[1;33m\u001b[0m\u001b[0m\n\u001b[0;32m    597\u001b[0m             \u001b[1;32mif\u001b[0m \u001b[0mhasattr\u001b[0m\u001b[1;33m(\u001b[0m\u001b[0mself\u001b[0m\u001b[1;33m.\u001b[0m\u001b[0mfn\u001b[0m\u001b[1;33m,\u001b[0m \u001b[1;34m'position_of_error'\u001b[0m\u001b[1;33m)\u001b[0m\u001b[1;33m:\u001b[0m\u001b[1;33m\u001b[0m\u001b[0m\n",
      "\u001b[1;31mKeyboardInterrupt\u001b[0m: "
     ]
    },
    {
     "name": "stdout",
     "output_type": "stream",
     "text": [
      "952.638175964\n"
     ]
    }
   ],
   "source": [
    "start = timeit.default_timer()\n",
    "# CMLP.evaluate_lenet5()\n",
    "%run convolutional_mlp.py\n",
    "end = timeit.default_timer()\n",
    "print (end - start)"
   ]
  },
  {
   "cell_type": "code",
   "execution_count": 12,
   "metadata": {
    "collapsed": true
   },
   "outputs": [],
   "source": [
    "TPE = 952.638175964/5"
   ]
  },
  {
   "cell_type": "code",
   "execution_count": 13,
   "metadata": {
    "collapsed": false
   },
   "outputs": [
    {
     "name": "stdout",
     "output_type": "stream",
     "text": [
      "190.527635193\n"
     ]
    }
   ],
   "source": [
    "print TPE"
   ]
  },
  {
   "cell_type": "code",
   "execution_count": 6,
   "metadata": {
    "collapsed": false
   },
   "outputs": [
    {
     "name": "stdout",
     "output_type": "stream",
     "text": [
      "... loading data\n",
      "... building the model\n",
      "... training the model\n",
      "epoch 1, minibatch 83/83, validation error 12.458333 %\n",
      "     epoch 1, minibatch 83/83, test error of best model 12.375000 %\n",
      "epoch 2, minibatch 83/83, validation error 11.010417 %\n",
      "     epoch 2, minibatch 83/83, test error of best model 10.958333 %\n",
      "epoch 3, minibatch 83/83, validation error 10.312500 %\n",
      "     epoch 3, minibatch 83/83, test error of best model 10.312500 %\n",
      "epoch 4, minibatch 83/83, validation error 9.875000 %\n",
      "     epoch 4, minibatch 83/83, test error of best model 9.833333 %\n",
      "epoch 5, minibatch 83/83, validation error 9.562500 %\n",
      "     epoch 5, minibatch 83/83, test error of best model 9.479167 %\n",
      "epoch 6, minibatch 83/83, validation error 9.322917 %\n",
      "     epoch 6, minibatch 83/83, test error of best model 9.291667 %\n",
      "epoch 7, minibatch 83/83, validation error 9.187500 %\n",
      "     epoch 7, minibatch 83/83, test error of best model 9.000000 %\n",
      "epoch 8, minibatch 83/83, validation error 8.989583 %\n",
      "     epoch 8, minibatch 83/83, test error of best model 8.958333 %\n",
      "epoch 9, minibatch 83/83, validation error 8.937500 %\n",
      "     epoch 9, minibatch 83/83, test error of best model 8.812500 %\n",
      "epoch 10, minibatch 83/83, validation error 8.750000 %\n",
      "     epoch 10, minibatch 83/83, test error of best model 8.666667 %\n",
      "epoch 11, minibatch 83/83, validation error 8.666667 %\n",
      "     epoch 11, minibatch 83/83, test error of best model 8.520833 %\n",
      "epoch 12, minibatch 83/83, validation error 8.583333 %\n",
      "     epoch 12, minibatch 83/83, test error of best model 8.416667 %\n",
      "epoch 13, minibatch 83/83, validation error 8.489583 %\n",
      "     epoch 13, minibatch 83/83, test error of best model 8.291667 %\n",
      "epoch 14, minibatch 83/83, validation error 8.427083 %\n",
      "     epoch 14, minibatch 83/83, test error of best model 8.281250 %\n",
      "epoch 15, minibatch 83/83, validation error 8.354167 %\n",
      "     epoch 15, minibatch 83/83, test error of best model 8.270833 %\n",
      "epoch 16, minibatch 83/83, validation error 8.302083 %\n",
      "     epoch 16, minibatch 83/83, test error of best model 8.239583 %\n",
      "epoch 17, minibatch 83/83, validation error 8.250000 %\n",
      "     epoch 17, minibatch 83/83, test error of best model 8.177083 %\n",
      "epoch 18, minibatch 83/83, validation error 8.229167 %\n",
      "     epoch 18, minibatch 83/83, test error of best model 8.062500 %\n",
      "epoch 19, minibatch 83/83, validation error 8.260417 %\n",
      "epoch 20, minibatch 83/83, validation error 8.260417 %\n",
      "epoch 21, minibatch 83/83, validation error 8.208333 %\n",
      "     epoch 21, minibatch 83/83, test error of best model 7.947917 %\n",
      "epoch 22, minibatch 83/83, validation error 8.187500 %\n",
      "     epoch 22, minibatch 83/83, test error of best model 7.927083 %\n",
      "epoch 23, minibatch 83/83, validation error 8.156250 %\n",
      "     epoch 23, minibatch 83/83, test error of best model 7.958333 %\n",
      "epoch 24, minibatch 83/83, validation error 8.114583 %\n",
      "     epoch 24, minibatch 83/83, test error of best model 7.947917 %\n",
      "epoch 25, minibatch 83/83, validation error 8.093750 %\n",
      "     epoch 25, minibatch 83/83, test error of best model 7.947917 %\n",
      "epoch 26, minibatch 83/83, validation error 8.104167 %\n",
      "epoch 27, minibatch 83/83, validation error 8.104167 %\n",
      "epoch 28, minibatch 83/83, validation error 8.052083 %\n",
      "     epoch 28, minibatch 83/83, test error of best model 7.843750 %\n",
      "epoch 29, minibatch 83/83, validation error 8.052083 %\n",
      "epoch 30, minibatch 83/83, validation error 8.031250 %\n",
      "     epoch 30, minibatch 83/83, test error of best model 7.843750 %\n",
      "epoch 31, minibatch 83/83, validation error 8.010417 %\n",
      "     epoch 31, minibatch 83/83, test error of best model 7.833333 %\n",
      "epoch 32, minibatch 83/83, validation error 7.979167 %\n",
      "     epoch 32, minibatch 83/83, test error of best model 7.812500 %\n",
      "epoch 33, minibatch 83/83, validation error 7.947917 %\n",
      "     epoch 33, minibatch 83/83, test error of best model 7.739583 %\n",
      "epoch 34, minibatch 83/83, validation error 7.875000 %\n",
      "     epoch 34, minibatch 83/83, test error of best model 7.729167 %\n",
      "epoch 35, minibatch 83/83, validation error 7.885417 %\n",
      "epoch 36, minibatch 83/83, validation error 7.843750 %\n",
      "     epoch 36, minibatch 83/83, test error of best model 7.697917 %\n",
      "epoch 37, minibatch 83/83, validation error 7.802083 %\n",
      "     epoch 37, minibatch 83/83, test error of best model 7.635417 %\n",
      "epoch 38, minibatch 83/83, validation error 7.812500 %\n",
      "epoch 39, minibatch 83/83, validation error 7.812500 %\n",
      "epoch 40, minibatch 83/83, validation error 7.822917 %\n",
      "epoch 41, minibatch 83/83, validation error 7.791667 %\n",
      "     epoch 41, minibatch 83/83, test error of best model 7.625000 %\n",
      "epoch 42, minibatch 83/83, validation error 7.770833 %\n",
      "     epoch 42, minibatch 83/83, test error of best model 7.614583 %\n",
      "epoch 43, minibatch 83/83, validation error 7.750000 %\n",
      "     epoch 43, minibatch 83/83, test error of best model 7.593750 %\n",
      "epoch 44, minibatch 83/83, validation error 7.739583 %\n",
      "     epoch 44, minibatch 83/83, test error of best model 7.593750 %\n",
      "epoch 45, minibatch 83/83, validation error 7.739583 %\n",
      "epoch 46, minibatch 83/83, validation error 7.739583 %\n",
      "epoch 47, minibatch 83/83, validation error 7.739583 %\n",
      "epoch 48, minibatch 83/83, validation error 7.708333 %\n",
      "     epoch 48, minibatch 83/83, test error of best model 7.583333 %\n",
      "epoch 49, minibatch 83/83, validation error 7.677083 %\n",
      "     epoch 49, minibatch 83/83, test error of best model 7.572917 %\n",
      "epoch 50, minibatch 83/83, validation error 7.677083 %\n",
      "epoch 51, minibatch 83/83, validation error 7.677083 %\n",
      "epoch 52, minibatch 83/83, validation error 7.656250 %\n",
      "     epoch 52, minibatch 83/83, test error of best model 7.541667 %\n",
      "epoch 53, minibatch 83/83, validation error 7.656250 %\n",
      "epoch 54, minibatch 83/83, validation error 7.635417 %\n",
      "     epoch 54, minibatch 83/83, test error of best model 7.520833 %\n",
      "epoch 55, minibatch 83/83, validation error 7.635417 %\n",
      "epoch 56, minibatch 83/83, validation error 7.635417 %\n",
      "epoch 57, minibatch 83/83, validation error 7.604167 %\n",
      "     epoch 57, minibatch 83/83, test error of best model 7.489583 %\n",
      "epoch 58, minibatch 83/83, validation error 7.583333 %\n",
      "     epoch 58, minibatch 83/83, test error of best model 7.458333 %\n",
      "epoch 59, minibatch 83/83, validation error 7.572917 %\n",
      "     epoch 59, minibatch 83/83, test error of best model 7.468750 %\n",
      "epoch 60, minibatch 83/83, validation error 7.572917 %\n",
      "epoch 61, minibatch 83/83, validation error 7.583333 %\n",
      "epoch 62, minibatch 83/83, validation error 7.572917 %\n",
      "     epoch 62, minibatch 83/83, test error of best model 7.520833 %\n",
      "epoch 63, minibatch 83/83, validation error 7.562500 %\n",
      "     epoch 63, minibatch 83/83, test error of best model 7.510417 %\n",
      "epoch 64, minibatch 83/83, validation error 7.572917 %\n",
      "epoch 65, minibatch 83/83, validation error 7.562500 %\n",
      "epoch 66, minibatch 83/83, validation error 7.552083 %\n",
      "     epoch 66, minibatch 83/83, test error of best model 7.520833 %\n",
      "epoch 67, minibatch 83/83, validation error 7.552083 %\n",
      "epoch 68, minibatch 83/83, validation error 7.531250 %\n",
      "     epoch 68, minibatch 83/83, test error of best model 7.520833 %\n",
      "epoch 69, minibatch 83/83, validation error 7.531250 %\n",
      "epoch 70, minibatch 83/83, validation error 7.510417 %\n",
      "     epoch 70, minibatch 83/83, test error of best model 7.500000 %\n",
      "epoch 71, minibatch 83/83, validation error 7.520833 %\n",
      "epoch 72, minibatch 83/83, validation error 7.510417 %\n",
      "epoch 73, minibatch 83/83, validation error 7.500000 %\n",
      "     epoch 73, minibatch 83/83, test error of best model 7.489583 %\n",
      "Optimization complete with best validation score of 7.500000 %,with test performance 7.489583 %\n",
      "The code run for 74 epochs, with 10.864979 epochs/sec\n",
      "9.30290102959\n"
     ]
    },
    {
     "name": "stderr",
     "output_type": "stream",
     "text": [
      "The code for file logistic_sgd.py ran for 6.8s\n"
     ]
    }
   ],
   "source": [
    "start = timeit.default_timer()\n",
    "# LSGD.sgd_optimization_mnist()\n",
    "%run logistic_sgd.py\n",
    "end = timeit.default_timer()\n",
    "print (end - start)"
   ]
  },
  {
   "cell_type": "code",
   "execution_count": 8,
   "metadata": {
    "collapsed": false
   },
   "outputs": [
    {
     "name": "stdout",
     "output_type": "stream",
     "text": [
      "... loading data\n",
      "... building the model\n",
      "... training\n",
      "training @ iter =  0\n",
      "epoch 1, minibatch 100/100, validation error 9.230000 %\n",
      "     epoch 1, minibatch 100/100, test error of best model 9.550000 %\n",
      "training @ iter =  100\n",
      "epoch 2, minibatch 100/100, validation error 6.180000 %\n",
      "     epoch 2, minibatch 100/100, test error of best model 6.480000 %\n",
      "training @ iter =  200\n",
      "epoch 3, minibatch 100/100, validation error 4.640000 %\n",
      "     epoch 3, minibatch 100/100, test error of best model 4.840000 %\n",
      "training @ iter =  300\n",
      "epoch 4, minibatch 100/100, validation error 3.500000 %\n",
      "     epoch 4, minibatch 100/100, test error of best model 3.930000 %\n",
      "training @ iter =  400\n",
      "epoch 5, minibatch 100/100, validation error 3.020000 %\n",
      "     epoch 5, minibatch 100/100, test error of best model 3.270000 %\n",
      "training @ iter =  500\n",
      "epoch 6, minibatch 100/100, validation error 2.810000 %\n",
      "     epoch 6, minibatch 100/100, test error of best model 2.810000 %\n",
      "training @ iter =  600\n",
      "epoch 7, minibatch 100/100, validation error 2.490000 %\n",
      "     epoch 7, minibatch 100/100, test error of best model 2.480000 %\n",
      "training @ iter =  700\n",
      "epoch 8, minibatch 100/100, validation error 2.290000 %\n",
      "     epoch 8, minibatch 100/100, test error of best model 2.210000 %\n",
      "training @ iter =  800\n",
      "epoch 9, minibatch 100/100, validation error 2.150000 %\n",
      "     epoch 9, minibatch 100/100, test error of best model 2.000000 %\n",
      "training @ iter =  900\n",
      "epoch 10, minibatch 100/100, validation error 1.980000 %\n",
      "     epoch 10, minibatch 100/100, test error of best model 1.910000 %\n",
      "training @ iter =  1000\n",
      "epoch 11, minibatch 100/100, validation error 1.850000 %\n",
      "     epoch 11, minibatch 100/100, test error of best model 1.800000 %\n",
      "training @ iter =  1100\n",
      "epoch 12, minibatch 100/100, validation error 1.790000 %\n",
      "     epoch 12, minibatch 100/100, test error of best model 1.660000 %\n",
      "training @ iter =  1200\n",
      "epoch 13, minibatch 100/100, validation error 1.770000 %\n",
      "     epoch 13, minibatch 100/100, test error of best model 1.580000 %\n",
      "training @ iter =  1300\n",
      "epoch 14, minibatch 100/100, validation error 1.730000 %\n",
      "     epoch 14, minibatch 100/100, test error of best model 1.530000 %\n",
      "training @ iter =  1400\n",
      "epoch 15, minibatch 100/100, validation error 1.680000 %\n",
      "     epoch 15, minibatch 100/100, test error of best model 1.490000 %\n",
      "training @ iter =  1500\n",
      "epoch 16, minibatch 100/100, validation error 1.620000 %\n",
      "     epoch 16, minibatch 100/100, test error of best model 1.430000 %\n",
      "training @ iter =  1600\n",
      "epoch 17, minibatch 100/100, validation error 1.580000 %\n",
      "     epoch 17, minibatch 100/100, test error of best model 1.420000 %\n",
      "training @ iter =  1700\n",
      "epoch 18, minibatch 100/100, validation error 1.560000 %\n",
      "     epoch 18, minibatch 100/100, test error of best model 1.400000 %\n",
      "training @ iter =  1800\n",
      "epoch 19, minibatch 100/100, validation error 1.550000 %\n",
      "     epoch 19, minibatch 100/100, test error of best model 1.380000 %\n",
      "training @ iter =  1900\n",
      "epoch 20, minibatch 100/100, validation error 1.520000 %\n",
      "     epoch 20, minibatch 100/100, test error of best model 1.300000 %\n",
      "training @ iter =  2000\n",
      "epoch 21, minibatch 100/100, validation error 1.500000 %\n",
      "     epoch 21, minibatch 100/100, test error of best model 1.280000 %\n",
      "training @ iter =  2100\n",
      "epoch 22, minibatch 100/100, validation error 1.460000 %\n",
      "     epoch 22, minibatch 100/100, test error of best model 1.260000 %\n",
      "training @ iter =  2200\n",
      "epoch 23, minibatch 100/100, validation error 1.430000 %\n",
      "     epoch 23, minibatch 100/100, test error of best model 1.250000 %\n",
      "training @ iter =  2300\n",
      "epoch 24, minibatch 100/100, validation error 1.390000 %\n",
      "     epoch 24, minibatch 100/100, test error of best model 1.220000 %\n",
      "training @ iter =  2400\n",
      "epoch 25, minibatch 100/100, validation error 1.370000 %\n",
      "     epoch 25, minibatch 100/100, test error of best model 1.190000 %\n",
      "training @ iter =  2500\n",
      "epoch 26, minibatch 100/100, validation error 1.350000 %\n",
      "     epoch 26, minibatch 100/100, test error of best model 1.180000 %\n",
      "training @ iter =  2600\n",
      "epoch 27, minibatch 100/100, validation error 1.330000 %\n",
      "     epoch 27, minibatch 100/100, test error of best model 1.140000 %\n",
      "training @ iter =  2700\n",
      "epoch 28, minibatch 100/100, validation error 1.310000 %\n",
      "     epoch 28, minibatch 100/100, test error of best model 1.130000 %\n",
      "training @ iter =  2800\n",
      "epoch 29, minibatch 100/100, validation error 1.270000 %\n",
      "     epoch 29, minibatch 100/100, test error of best model 1.100000 %\n",
      "training @ iter =  2900\n",
      "epoch 30, minibatch 100/100, validation error 1.250000 %\n",
      "     epoch 30, minibatch 100/100, test error of best model 1.090000 %\n",
      "training @ iter =  3000\n",
      "epoch 31, minibatch 100/100, validation error 1.230000 %\n",
      "     epoch 31, minibatch 100/100, test error of best model 1.090000 %\n",
      "training @ iter =  3100\n",
      "epoch 32, minibatch 100/100, validation error 1.220000 %\n",
      "     epoch 32, minibatch 100/100, test error of best model 1.100000 %\n",
      "training @ iter =  3200\n",
      "epoch 33, minibatch 100/100, validation error 1.220000 %\n",
      "training @ iter =  3300\n",
      "epoch 34, minibatch 100/100, validation error 1.210000 %\n",
      "     epoch 34, minibatch 100/100, test error of best model 1.070000 %\n",
      "training @ iter =  3400\n",
      "epoch 35, minibatch 100/100, validation error 1.200000 %\n",
      "     epoch 35, minibatch 100/100, test error of best model 1.050000 %\n",
      "training @ iter =  3500\n",
      "epoch 36, minibatch 100/100, validation error 1.200000 %\n",
      "training @ iter =  3600\n",
      "epoch 37, minibatch 100/100, validation error 1.190000 %\n",
      "     epoch 37, minibatch 100/100, test error of best model 1.050000 %\n",
      "training @ iter =  3700\n",
      "epoch 38, minibatch 100/100, validation error 1.180000 %\n",
      "     epoch 38, minibatch 100/100, test error of best model 1.050000 %\n",
      "training @ iter =  3800\n",
      "epoch 39, minibatch 100/100, validation error 1.180000 %\n",
      "training @ iter =  3900\n",
      "epoch 40, minibatch 100/100, validation error 1.170000 %\n",
      "     epoch 40, minibatch 100/100, test error of best model 1.050000 %\n",
      "training @ iter =  4000\n",
      "epoch 41, minibatch 100/100, validation error 1.140000 %\n",
      "     epoch 41, minibatch 100/100, test error of best model 1.050000 %\n",
      "training @ iter =  4100\n",
      "epoch 42, minibatch 100/100, validation error 1.130000 %\n",
      "     epoch 42, minibatch 100/100, test error of best model 1.040000 %\n",
      "training @ iter =  4200\n",
      "epoch 43, minibatch 100/100, validation error 1.100000 %\n",
      "     epoch 43, minibatch 100/100, test error of best model 1.050000 %\n",
      "training @ iter =  4300\n",
      "epoch 44, minibatch 100/100, validation error 1.100000 %\n",
      "training @ iter =  4400\n",
      "epoch 45, minibatch 100/100, validation error 1.090000 %\n",
      "     epoch 45, minibatch 100/100, test error of best model 1.070000 %\n",
      "training @ iter =  4500\n",
      "epoch 46, minibatch 100/100, validation error 1.090000 %\n",
      "training @ iter =  4600\n",
      "epoch 47, minibatch 100/100, validation error 1.080000 %\n",
      "     epoch 47, minibatch 100/100, test error of best model 1.060000 %\n",
      "training @ iter =  4700\n",
      "epoch 48, minibatch 100/100, validation error 1.070000 %\n",
      "     epoch 48, minibatch 100/100, test error of best model 1.050000 %\n",
      "training @ iter =  4800\n",
      "epoch 49, minibatch 100/100, validation error 1.070000 %\n",
      "training @ iter =  4900\n",
      "epoch 50, minibatch 100/100, validation error 1.070000 %\n",
      "training @ iter =  5000\n",
      "epoch 51, minibatch 100/100, validation error 1.080000 %\n",
      "training @ iter =  5100\n",
      "epoch 52, minibatch 100/100, validation error 1.080000 %\n",
      "training @ iter =  5200\n",
      "epoch 53, minibatch 100/100, validation error 1.060000 %\n",
      "     epoch 53, minibatch 100/100, test error of best model 1.030000 %\n",
      "training @ iter =  5300\n",
      "epoch 54, minibatch 100/100, validation error 1.050000 %\n",
      "     epoch 54, minibatch 100/100, test error of best model 1.020000 %\n",
      "training @ iter =  5400\n",
      "epoch 55, minibatch 100/100, validation error 1.060000 %\n",
      "training @ iter =  5500\n",
      "epoch 56, minibatch 100/100, validation error 1.050000 %\n",
      "training @ iter =  5600\n",
      "epoch 57, minibatch 100/100, validation error 1.060000 %\n",
      "training @ iter =  5700\n",
      "epoch 58, minibatch 100/100, validation error 1.070000 %\n",
      "training @ iter =  5800\n",
      "epoch 59, minibatch 100/100, validation error 1.070000 %\n",
      "training @ iter =  5900\n",
      "epoch 60, minibatch 100/100, validation error 1.070000 %\n",
      "training @ iter =  6000\n",
      "epoch 61, minibatch 100/100, validation error 1.070000 %\n",
      "training @ iter =  6100\n",
      "epoch 62, minibatch 100/100, validation error 1.080000 %\n",
      "training @ iter =  6200\n",
      "epoch 63, minibatch 100/100, validation error 1.080000 %\n",
      "training @ iter =  6300\n",
      "epoch 64, minibatch 100/100, validation error 1.080000 %\n",
      "training @ iter =  6400\n",
      "epoch 65, minibatch 100/100, validation error 1.080000 %\n",
      "training @ iter =  6500\n",
      "epoch 66, minibatch 100/100, validation error 1.070000 %\n",
      "training @ iter =  6600\n",
      "epoch 67, minibatch 100/100, validation error 1.060000 %\n",
      "training @ iter =  6700\n",
      "epoch 68, minibatch 100/100, validation error 1.060000 %\n",
      "training @ iter =  6800\n",
      "epoch 69, minibatch 100/100, validation error 1.040000 %\n",
      "     epoch 69, minibatch 100/100, test error of best model 0.970000 %\n",
      "training @ iter =  6900\n",
      "epoch 70, minibatch 100/100, validation error 1.030000 %\n",
      "     epoch 70, minibatch 100/100, test error of best model 0.970000 %\n",
      "training @ iter =  7000\n",
      "epoch 71, minibatch 100/100, validation error 1.050000 %\n",
      "training @ iter =  7100\n",
      "epoch 72, minibatch 100/100, validation error 1.040000 %\n",
      "training @ iter =  7200\n",
      "epoch 73, minibatch 100/100, validation error 1.040000 %\n",
      "training @ iter =  7300\n",
      "epoch 74, minibatch 100/100, validation error 1.020000 %\n",
      "     epoch 74, minibatch 100/100, test error of best model 0.980000 %\n",
      "training @ iter =  7400\n",
      "epoch 75, minibatch 100/100, validation error 1.000000 %\n",
      "     epoch 75, minibatch 100/100, test error of best model 1.000000 %\n",
      "training @ iter =  7500\n",
      "epoch 76, minibatch 100/100, validation error 1.000000 %\n",
      "training @ iter =  7600\n",
      "epoch 77, minibatch 100/100, validation error 1.000000 %\n",
      "training @ iter =  7700\n",
      "epoch 78, minibatch 100/100, validation error 0.990000 %\n",
      "     epoch 78, minibatch 100/100, test error of best model 1.000000 %\n",
      "training @ iter =  7800\n",
      "epoch 79, minibatch 100/100, validation error 0.990000 %\n",
      "training @ iter =  7900\n",
      "epoch 80, minibatch 100/100, validation error 0.980000 %\n",
      "     epoch 80, minibatch 100/100, test error of best model 1.000000 %\n",
      "training @ iter =  8000\n",
      "epoch 81, minibatch 100/100, validation error 0.980000 %\n",
      "training @ iter =  8100\n",
      "epoch 82, minibatch 100/100, validation error 0.970000 %\n",
      "     epoch 82, minibatch 100/100, test error of best model 0.990000 %\n",
      "training @ iter =  8200\n",
      "epoch 83, minibatch 100/100, validation error 0.970000 %\n",
      "training @ iter =  8300\n",
      "epoch 84, minibatch 100/100, validation error 0.970000 %\n",
      "training @ iter =  8400\n",
      "epoch 85, minibatch 100/100, validation error 0.970000 %\n",
      "training @ iter =  8500\n",
      "epoch 86, minibatch 100/100, validation error 0.980000 %\n",
      "training @ iter =  8600\n",
      "epoch 87, minibatch 100/100, validation error 0.980000 %\n",
      "training @ iter =  8700\n",
      "epoch 88, minibatch 100/100, validation error 0.980000 %\n",
      "training @ iter =  8800\n",
      "epoch 89, minibatch 100/100, validation error 0.980000 %\n",
      "training @ iter =  8900\n",
      "epoch 90, minibatch 100/100, validation error 0.980000 %\n",
      "training @ iter =  9000\n",
      "epoch 91, minibatch 100/100, validation error 0.970000 %\n",
      "training @ iter =  9100\n",
      "epoch 92, minibatch 100/100, validation error 0.970000 %\n",
      "training @ iter =  9200\n",
      "epoch 93, minibatch 100/100, validation error 0.970000 %\n",
      "training @ iter =  9300\n",
      "epoch 94, minibatch 100/100, validation error 0.970000 %\n",
      "training @ iter =  9400\n",
      "epoch 95, minibatch 100/100, validation error 0.960000 %\n",
      "     epoch 95, minibatch 100/100, test error of best model 0.970000 %\n",
      "training @ iter =  9500\n",
      "epoch 96, minibatch 100/100, validation error 0.960000 %\n",
      "training @ iter =  9600\n",
      "epoch 97, minibatch 100/100, validation error 0.960000 %\n",
      "training @ iter =  9700\n",
      "epoch 98, minibatch 100/100, validation error 0.960000 %\n",
      "training @ iter =  9800\n",
      "epoch 99, minibatch 100/100, validation error 0.960000 %\n",
      "training @ iter =  9900\n",
      "epoch 100, minibatch 100/100, validation error 0.960000 %\n",
      "training @ iter =  10000\n",
      "epoch 101, minibatch 100/100, validation error 0.950000 %\n",
      "     epoch 101, minibatch 100/100, test error of best model 0.970000 %\n",
      "training @ iter =  10100\n",
      "epoch 102, minibatch 100/100, validation error 0.950000 %\n",
      "training @ iter =  10200\n",
      "epoch 103, minibatch 100/100, validation error 0.950000 %\n",
      "training @ iter =  10300\n",
      "epoch 104, minibatch 100/100, validation error 0.950000 %\n",
      "training @ iter =  10400\n",
      "epoch 105, minibatch 100/100, validation error 0.950000 %\n",
      "training @ iter =  10500\n",
      "epoch 106, minibatch 100/100, validation error 0.950000 %\n",
      "training @ iter =  10600\n",
      "epoch 107, minibatch 100/100, validation error 0.950000 %\n",
      "training @ iter =  10700\n",
      "epoch 108, minibatch 100/100, validation error 0.940000 %\n",
      "     epoch 108, minibatch 100/100, test error of best model 0.960000 %\n",
      "training @ iter =  10800\n",
      "epoch 109, minibatch 100/100, validation error 0.940000 %\n",
      "training @ iter =  10900\n",
      "epoch 110, minibatch 100/100, validation error 0.930000 %\n",
      "     epoch 110, minibatch 100/100, test error of best model 0.960000 %\n",
      "training @ iter =  11000\n",
      "epoch 111, minibatch 100/100, validation error 0.930000 %\n",
      "training @ iter =  11100\n",
      "epoch 112, minibatch 100/100, validation error 0.930000 %\n",
      "training @ iter =  11200\n",
      "epoch 113, minibatch 100/100, validation error 0.930000 %\n",
      "training @ iter =  11300\n",
      "epoch 114, minibatch 100/100, validation error 0.930000 %\n",
      "training @ iter =  11400\n",
      "epoch 115, minibatch 100/100, validation error 0.940000 %\n",
      "training @ iter =  11500\n",
      "epoch 116, minibatch 100/100, validation error 0.940000 %\n",
      "training @ iter =  11600\n",
      "epoch 117, minibatch 100/100, validation error 0.940000 %\n",
      "training @ iter =  11700\n",
      "epoch 118, minibatch 100/100, validation error 0.940000 %\n",
      "training @ iter =  11800\n",
      "epoch 119, minibatch 100/100, validation error 0.940000 %\n",
      "training @ iter =  11900\n",
      "epoch 120, minibatch 100/100, validation error 0.940000 %\n",
      "training @ iter =  12000\n",
      "epoch 121, minibatch 100/100, validation error 0.940000 %\n",
      "training @ iter =  12100\n",
      "epoch 122, minibatch 100/100, validation error 0.940000 %\n",
      "training @ iter =  12200\n",
      "epoch 123, minibatch 100/100, validation error 0.940000 %\n",
      "training @ iter =  12300\n",
      "epoch 124, minibatch 100/100, validation error 0.950000 %\n",
      "training @ iter =  12400\n",
      "epoch 125, minibatch 100/100, validation error 0.950000 %\n",
      "training @ iter =  12500\n",
      "epoch 126, minibatch 100/100, validation error 0.950000 %\n",
      "training @ iter =  12600\n",
      "epoch 127, minibatch 100/100, validation error 0.950000 %\n",
      "training @ iter =  12700\n",
      "epoch 128, minibatch 100/100, validation error 0.950000 %\n",
      "training @ iter =  12800\n",
      "epoch 129, minibatch 100/100, validation error 0.950000 %\n",
      "training @ iter =  12900\n",
      "epoch 130, minibatch 100/100, validation error 0.950000 %\n",
      "training @ iter =  13000\n",
      "epoch 131, minibatch 100/100, validation error 0.950000 %\n",
      "training @ iter =  13100\n",
      "epoch 132, minibatch 100/100, validation error 0.950000 %\n",
      "training @ iter =  13200\n",
      "epoch 133, minibatch 100/100, validation error 0.950000 %\n",
      "training @ iter =  13300\n",
      "epoch 134, minibatch 100/100, validation error 0.940000 %\n",
      "training @ iter =  13400\n",
      "epoch 135, minibatch 100/100, validation error 0.940000 %\n",
      "training @ iter =  13500\n",
      "epoch 136, minibatch 100/100, validation error 0.940000 %\n",
      "training @ iter =  13600\n",
      "epoch 137, minibatch 100/100, validation error 0.940000 %\n",
      "training @ iter =  13700\n",
      "epoch 138, minibatch 100/100, validation error 0.940000 %\n",
      "training @ iter =  13800\n",
      "epoch 139, minibatch 100/100, validation error 0.940000 %\n",
      "training @ iter =  13900\n",
      "epoch 140, minibatch 100/100, validation error 0.940000 %\n",
      "training @ iter =  14000\n",
      "epoch 141, minibatch 100/100, validation error 0.940000 %\n",
      "training @ iter =  14100\n",
      "epoch 142, minibatch 100/100, validation error 0.940000 %\n",
      "training @ iter =  14200\n",
      "epoch 143, minibatch 100/100, validation error 0.940000 %\n",
      "training @ iter =  14300\n",
      "epoch 144, minibatch 100/100, validation error 0.940000 %\n",
      "training @ iter =  14400\n",
      "epoch 145, minibatch 100/100, validation error 0.940000 %\n",
      "training @ iter =  14500\n",
      "epoch 146, minibatch 100/100, validation error 0.940000 %\n",
      "training @ iter =  14600\n",
      "epoch 147, minibatch 100/100, validation error 0.940000 %\n",
      "training @ iter =  14700\n",
      "epoch 148, minibatch 100/100, validation error 0.940000 %\n",
      "training @ iter =  14800\n",
      "epoch 149, minibatch 100/100, validation error 0.940000 %\n",
      "training @ iter =  14900\n",
      "epoch 150, minibatch 100/100, validation error 0.940000 %\n",
      "training @ iter =  15000\n",
      "epoch 151, minibatch 100/100, validation error 0.940000 %\n",
      "training @ iter =  15100\n",
      "epoch 152, minibatch 100/100, validation error 0.940000 %\n",
      "training @ iter =  15200\n",
      "epoch 153, minibatch 100/100, validation error 0.940000 %\n",
      "training @ iter =  15300\n",
      "epoch 154, minibatch 100/100, validation error 0.940000 %\n",
      "training @ iter =  15400\n",
      "epoch 155, minibatch 100/100, validation error 0.940000 %\n",
      "training @ iter =  15500\n",
      "epoch 156, minibatch 100/100, validation error 0.940000 %\n",
      "training @ iter =  15600\n",
      "epoch 157, minibatch 100/100, validation error 0.940000 %\n",
      "training @ iter =  15700\n",
      "epoch 158, minibatch 100/100, validation error 0.940000 %\n",
      "training @ iter =  15800\n",
      "epoch 159, minibatch 100/100, validation error 0.940000 %\n",
      "training @ iter =  15900\n",
      "epoch 160, minibatch 100/100, validation error 0.940000 %\n",
      "training @ iter =  16000\n",
      "epoch 161, minibatch 100/100, validation error 0.930000 %\n",
      "training @ iter =  16100\n",
      "epoch 162, minibatch 100/100, validation error 0.930000 %\n",
      "training @ iter =  16200\n",
      "epoch 163, minibatch 100/100, validation error 0.930000 %\n",
      "training @ iter =  16300\n",
      "epoch 164, minibatch 100/100, validation error 0.930000 %\n",
      "training @ iter =  16400\n",
      "epoch 165, minibatch 100/100, validation error 0.940000 %\n",
      "training @ iter =  16500\n",
      "epoch 166, minibatch 100/100, validation error 0.940000 %\n",
      "training @ iter =  16600\n",
      "epoch 167, minibatch 100/100, validation error 0.940000 %\n",
      "training @ iter =  16700\n",
      "epoch 168, minibatch 100/100, validation error 0.940000 %\n",
      "training @ iter =  16800\n",
      "epoch 169, minibatch 100/100, validation error 0.940000 %\n",
      "training @ iter =  16900\n",
      "epoch 170, minibatch 100/100, validation error 0.940000 %\n",
      "training @ iter =  17000\n",
      "epoch 171, minibatch 100/100, validation error 0.940000 %\n",
      "training @ iter =  17100\n",
      "epoch 172, minibatch 100/100, validation error 0.940000 %\n",
      "training @ iter =  17200\n",
      "epoch 173, minibatch 100/100, validation error 0.940000 %\n",
      "training @ iter =  17300\n",
      "epoch 174, minibatch 100/100, validation error 0.940000 %\n",
      "training @ iter =  17400\n",
      "epoch 175, minibatch 100/100, validation error 0.940000 %\n",
      "training @ iter =  17500\n",
      "epoch 176, minibatch 100/100, validation error 0.940000 %\n",
      "training @ iter =  17600\n",
      "epoch 177, minibatch 100/100, validation error 0.950000 %\n",
      "training @ iter =  17700\n",
      "epoch 178, minibatch 100/100, validation error 0.940000 %\n",
      "training @ iter =  17800\n",
      "epoch 179, minibatch 100/100, validation error 0.950000 %\n",
      "training @ iter =  17900\n",
      "epoch 180, minibatch 100/100, validation error 0.950000 %\n",
      "training @ iter =  18000\n",
      "epoch 181, minibatch 100/100, validation error 0.950000 %\n",
      "training @ iter =  18100\n",
      "epoch 182, minibatch 100/100, validation error 0.950000 %\n",
      "training @ iter =  18200\n",
      "epoch 183, minibatch 100/100, validation error 0.950000 %\n",
      "training @ iter =  18300\n",
      "epoch 184, minibatch 100/100, validation error 0.950000 %\n",
      "training @ iter =  18400\n",
      "epoch 185, minibatch 100/100, validation error 0.950000 %\n",
      "training @ iter =  18500\n",
      "epoch 186, minibatch 100/100, validation error 0.950000 %\n",
      "training @ iter =  18600\n",
      "epoch 187, minibatch 100/100, validation error 0.950000 %\n",
      "training @ iter =  18700\n",
      "epoch 188, minibatch 100/100, validation error 0.950000 %\n",
      "training @ iter =  18800\n",
      "epoch 189, minibatch 100/100, validation error 0.950000 %\n",
      "training @ iter =  18900\n",
      "epoch 190, minibatch 100/100, validation error 0.950000 %\n",
      "training @ iter =  19000\n",
      "epoch 191, minibatch 100/100, validation error 0.950000 %\n",
      "training @ iter =  19100\n",
      "epoch 192, minibatch 100/100, validation error 0.950000 %\n",
      "training @ iter =  19200\n",
      "epoch 193, minibatch 100/100, validation error 0.950000 %\n",
      "training @ iter =  19300\n",
      "epoch 194, minibatch 100/100, validation error 0.950000 %\n",
      "training @ iter =  19400\n",
      "epoch 195, minibatch 100/100, validation error 0.950000 %\n",
      "training @ iter =  19500\n",
      "epoch 196, minibatch 100/100, validation error 0.950000 %\n",
      "training @ iter =  19600\n",
      "epoch 197, minibatch 100/100, validation error 0.950000 %\n",
      "training @ iter =  19700\n",
      "epoch 198, minibatch 100/100, validation error 0.950000 %\n",
      "training @ iter =  19800\n",
      "epoch 199, minibatch 100/100, validation error 0.950000 %\n",
      "training @ iter =  19900\n",
      "epoch 200, minibatch 100/100, validation error 0.950000 %\n",
      "Optimization complete.\n",
      "Best validation score of 0.930000 % obtained at iteration 11000, with test performance 0.960000 %\n",
      "528.073688984\n"
     ]
    },
    {
     "name": "stderr",
     "output_type": "stream",
     "text": [
      "The code for file convolutional_mlp.py ran for 8.66m\n"
     ]
    }
   ],
   "source": [
    "start = timeit.default_timer()\n",
    "# CMLP.evaluate_lenet5()\n",
    "%run convolutional_mlp.py\n",
    "end = timeit.default_timer()\n",
    "print (end - start)"
   ]
  },
  {
   "cell_type": "code",
   "execution_count": 9,
   "metadata": {
    "collapsed": true
   },
   "outputs": [],
   "source": [
    "import numpy as np"
   ]
  },
  {
   "cell_type": "code",
   "execution_count": 10,
   "metadata": {
    "collapsed": false
   },
   "outputs": [],
   "source": [
    "import theano.tensor as T"
   ]
  },
  {
   "cell_type": "code",
   "execution_count": 11,
   "metadata": {
    "collapsed": true
   },
   "outputs": [],
   "source": [
    "from theano.tensor.shared_randomstreams import RandomStreams"
   ]
  },
  {
   "cell_type": "code",
   "execution_count": 12,
   "metadata": {
    "collapsed": true
   },
   "outputs": [],
   "source": [
    "from theano import function"
   ]
  },
  {
   "cell_type": "code",
   "execution_count": 13,
   "metadata": {
    "collapsed": true
   },
   "outputs": [],
   "source": [
    "from theano import shared"
   ]
  },
  {
   "cell_type": "code",
   "execution_count": 14,
   "metadata": {
    "collapsed": false
   },
   "outputs": [],
   "source": [
    "state_A = shared(np.zeros((10,10)))"
   ]
  },
  {
   "cell_type": "code",
   "execution_count": 15,
   "metadata": {
    "collapsed": true
   },
   "outputs": [],
   "source": [
    "state_B = shared(np.zeros((10,1)))"
   ]
  },
  {
   "cell_type": "code",
   "execution_count": 16,
   "metadata": {
    "collapsed": false
   },
   "outputs": [],
   "source": [
    "X = T.fmatrix('X')"
   ]
  },
  {
   "cell_type": "code",
   "execution_count": 17,
   "metadata": {
    "collapsed": true
   },
   "outputs": [],
   "source": [
    "srng = RandomStreams(seed=7) # seeds all random variables"
   ]
  },
  {
   "cell_type": "code",
   "execution_count": 18,
   "metadata": {
    "collapsed": true
   },
   "outputs": [],
   "source": [
    "A = srng.normal((10,10))"
   ]
  },
  {
   "cell_type": "code",
   "execution_count": 19,
   "metadata": {
    "collapsed": true
   },
   "outputs": [],
   "source": [
    "B = srng.normal((10,1))"
   ]
  },
  {
   "cell_type": "code",
   "execution_count": 20,
   "metadata": {
    "collapsed": true
   },
   "outputs": [],
   "source": [
    "a = function([], A)"
   ]
  },
  {
   "cell_type": "code",
   "execution_count": 21,
   "metadata": {
    "collapsed": false
   },
   "outputs": [],
   "source": [
    "b = function([], B)"
   ]
  },
  {
   "cell_type": "code",
   "execution_count": 22,
   "metadata": {
    "collapsed": false
   },
   "outputs": [],
   "source": [
    "acc_A = function([], state_A, updates=[(state_A, state_A + a())])"
   ]
  },
  {
   "cell_type": "code",
   "execution_count": 23,
   "metadata": {
    "collapsed": false
   },
   "outputs": [],
   "source": [
    "acc_B = function([], state_B, updates=[(state_B, state_B + b())])"
   ]
  },
  {
   "cell_type": "code",
   "execution_count": 24,
   "metadata": {
    "collapsed": false
   },
   "outputs": [
    {
     "name": "stdout",
     "output_type": "stream",
     "text": [
      "[[ 0.  0.  0.  0.  0.  0.  0.  0.  0.  0.]\n",
      " [ 0.  0.  0.  0.  0.  0.  0.  0.  0.  0.]\n",
      " [ 0.  0.  0.  0.  0.  0.  0.  0.  0.  0.]\n",
      " [ 0.  0.  0.  0.  0.  0.  0.  0.  0.  0.]\n",
      " [ 0.  0.  0.  0.  0.  0.  0.  0.  0.  0.]\n",
      " [ 0.  0.  0.  0.  0.  0.  0.  0.  0.  0.]\n",
      " [ 0.  0.  0.  0.  0.  0.  0.  0.  0.  0.]\n",
      " [ 0.  0.  0.  0.  0.  0.  0.  0.  0.  0.]\n",
      " [ 0.  0.  0.  0.  0.  0.  0.  0.  0.  0.]\n",
      " [ 0.  0.  0.  0.  0.  0.  0.  0.  0.  0.]]\n"
     ]
    }
   ],
   "source": [
    "print state_A.get_value()"
   ]
  },
  {
   "cell_type": "code",
   "execution_count": 25,
   "metadata": {
    "collapsed": false
   },
   "outputs": [
    {
     "name": "stdout",
     "output_type": "stream",
     "text": [
      "[[ 0.]\n",
      " [ 0.]\n",
      " [ 0.]\n",
      " [ 0.]\n",
      " [ 0.]\n",
      " [ 0.]\n",
      " [ 0.]\n",
      " [ 0.]\n",
      " [ 0.]\n",
      " [ 0.]]\n"
     ]
    }
   ],
   "source": [
    "print state_B.get_value()"
   ]
  },
  {
   "cell_type": "code",
   "execution_count": 26,
   "metadata": {
    "collapsed": false
   },
   "outputs": [
    {
     "data": {
      "text/plain": [
       "array([[ 0.,  0.,  0.,  0.,  0.,  0.,  0.,  0.,  0.,  0.],\n",
       "       [ 0.,  0.,  0.,  0.,  0.,  0.,  0.,  0.,  0.,  0.],\n",
       "       [ 0.,  0.,  0.,  0.,  0.,  0.,  0.,  0.,  0.,  0.],\n",
       "       [ 0.,  0.,  0.,  0.,  0.,  0.,  0.,  0.,  0.,  0.],\n",
       "       [ 0.,  0.,  0.,  0.,  0.,  0.,  0.,  0.,  0.,  0.],\n",
       "       [ 0.,  0.,  0.,  0.,  0.,  0.,  0.,  0.,  0.,  0.],\n",
       "       [ 0.,  0.,  0.,  0.,  0.,  0.,  0.,  0.,  0.,  0.],\n",
       "       [ 0.,  0.,  0.,  0.,  0.,  0.,  0.,  0.,  0.,  0.],\n",
       "       [ 0.,  0.,  0.,  0.,  0.,  0.,  0.,  0.,  0.,  0.],\n",
       "       [ 0.,  0.,  0.,  0.,  0.,  0.,  0.,  0.,  0.,  0.]])"
      ]
     },
     "execution_count": 26,
     "metadata": {},
     "output_type": "execute_result"
    }
   ],
   "source": [
    "acc_A()"
   ]
  },
  {
   "cell_type": "code",
   "execution_count": 27,
   "metadata": {
    "collapsed": false
   },
   "outputs": [],
   "source": [
    "# print state_A.get_value()"
   ]
  },
  {
   "cell_type": "code",
   "execution_count": 28,
   "metadata": {
    "collapsed": false
   },
   "outputs": [
    {
     "data": {
      "text/plain": [
       "array([[ 0.],\n",
       "       [ 0.],\n",
       "       [ 0.],\n",
       "       [ 0.],\n",
       "       [ 0.],\n",
       "       [ 0.],\n",
       "       [ 0.],\n",
       "       [ 0.],\n",
       "       [ 0.],\n",
       "       [ 0.]])"
      ]
     },
     "execution_count": 28,
     "metadata": {},
     "output_type": "execute_result"
    }
   ],
   "source": [
    "acc_B()"
   ]
  },
  {
   "cell_type": "code",
   "execution_count": 29,
   "metadata": {
    "collapsed": true
   },
   "outputs": [],
   "source": [
    "# print state_B.get_value()"
   ]
  },
  {
   "cell_type": "code",
   "execution_count": 30,
   "metadata": {
    "collapsed": false
   },
   "outputs": [],
   "source": [
    "z = T.dot((X + state_A.get_value()), state_B.get_value())"
   ]
  },
  {
   "cell_type": "code",
   "execution_count": 31,
   "metadata": {
    "collapsed": false
   },
   "outputs": [
    {
     "name": "stdout",
     "output_type": "stream",
     "text": [
      "[[  3.04513308e-03  -6.87625766e-01  -1.76176012e+00  -1.03802562e+00\n",
      "    4.42811698e-01   9.64577962e-03   3.78354788e-01   1.23403215e+00\n",
      "    5.58887303e-01  -3.67138535e-01]\n",
      " [ -6.26724362e-01   4.70386595e-01   2.08239722e+00  -7.98181236e-01\n",
      "    6.99886799e-01   2.09040952e+00   3.98462951e-01   9.99791771e-02\n",
      "    1.42433703e+00   1.18448114e+00]\n",
      " [ -1.51093352e+00   1.36167872e+00   5.04555941e-01  -3.09021801e-01\n",
      "   -8.01170230e-01  -1.63582993e+00  -1.14383638e+00  -9.73208964e-01\n",
      "   -4.19189362e-03  -4.70014691e-01]\n",
      " [  6.59505248e-01   5.47440872e-02   4.58689034e-01   5.51887751e-02\n",
      "    8.71327937e-01  -1.15130007e+00   4.61576700e-01   3.93866181e-01\n",
      "   -6.22851133e-01  -6.70351670e-04]\n",
      " [  5.95144570e-01   1.41512394e+00  -1.56104493e+00   4.07439142e-01\n",
      "    9.23862755e-01  -1.12355098e-01   2.33901048e+00   1.11907279e+00\n",
      "   -2.23792839e+00   1.61294389e+00]\n",
      " [ -1.04776454e+00   1.41548741e+00   6.38524711e-01  -6.31085396e-01\n",
      "    4.07980144e-01  -7.00737476e-01  -1.33939528e+00   1.47568083e+00\n",
      "   -7.50701129e-01   2.30299735e+00]\n",
      " [ -5.66349067e-02   1.02987182e+00  -9.27742541e-01   4.93017346e-01\n",
      "    9.76761103e-01   8.98054421e-01   9.66154754e-01  -5.94452739e-01\n",
      "    1.50832486e+00   8.52078199e-01]\n",
      " [ -4.64170724e-01  -6.25363886e-01   8.01985204e-01  -7.86538124e-02\n",
      "   -5.48474431e-01  -1.88410193e-01  -2.23416835e-01   3.45871374e-02\n",
      "   -1.48131084e+00  -1.17551185e-01]\n",
      " [  6.49684310e-01   2.45686352e-01  -9.57270265e-02   3.93347830e-01\n",
      "   -5.05620956e-01  -1.03733969e+00   1.46685040e+00   1.97578520e-01\n",
      "   -3.18641424e-01   1.21424663e+00]\n",
      " [ -2.87149370e-01  -1.11767530e+00   8.45290780e-01   2.82616198e-01\n",
      "    5.51476300e-01   1.16969429e-01  -5.26387453e-01   4.22630727e-01\n",
      "   -4.05694097e-01   6.63120389e-01]]\n"
     ]
    }
   ],
   "source": [
    "print state_A.get_value()"
   ]
  },
  {
   "cell_type": "code",
   "execution_count": 32,
   "metadata": {
    "collapsed": false
   },
   "outputs": [
    {
     "name": "stdout",
     "output_type": "stream",
     "text": [
      "[[-1.31465781]\n",
      " [-1.93436062]\n",
      " [-1.14448571]\n",
      " [ 0.16946305]\n",
      " [-0.80552095]\n",
      " [-0.89893657]\n",
      " [ 0.6805113 ]\n",
      " [-0.54167271]\n",
      " [-0.41710612]\n",
      " [-1.39900589]]\n"
     ]
    }
   ],
   "source": [
    "print state_B.get_value()"
   ]
  },
  {
   "cell_type": "code",
   "execution_count": 33,
   "metadata": {
    "collapsed": false
   },
   "outputs": [],
   "source": [
    "main = function([X], z)"
   ]
  },
  {
   "cell_type": "code",
   "execution_count": 34,
   "metadata": {
    "collapsed": true
   },
   "outputs": [],
   "source": [
    "y = np.float32(np.ones((10,10)))"
   ]
  },
  {
   "cell_type": "code",
   "execution_count": 35,
   "metadata": {
    "collapsed": false
   },
   "outputs": [
    {
     "name": "stdout",
     "output_type": "stream",
     "text": [
      "[[ 1.  1.  1.  1.  1.  1.  1.  1.  1.  1.]\n",
      " [ 1.  1.  1.  1.  1.  1.  1.  1.  1.  1.]\n",
      " [ 1.  1.  1.  1.  1.  1.  1.  1.  1.  1.]\n",
      " [ 1.  1.  1.  1.  1.  1.  1.  1.  1.  1.]\n",
      " [ 1.  1.  1.  1.  1.  1.  1.  1.  1.  1.]\n",
      " [ 1.  1.  1.  1.  1.  1.  1.  1.  1.  1.]\n",
      " [ 1.  1.  1.  1.  1.  1.  1.  1.  1.  1.]\n",
      " [ 1.  1.  1.  1.  1.  1.  1.  1.  1.  1.]\n",
      " [ 1.  1.  1.  1.  1.  1.  1.  1.  1.  1.]\n",
      " [ 1.  1.  1.  1.  1.  1.  1.  1.  1.  1.]]\n"
     ]
    }
   ],
   "source": [
    "print y"
   ]
  },
  {
   "cell_type": "code",
   "execution_count": 36,
   "metadata": {
    "collapsed": false
   },
   "outputs": [],
   "source": [
    "ans = main(y)"
   ]
  },
  {
   "cell_type": "code",
   "execution_count": 37,
   "metadata": {
    "collapsed": false
   },
   "outputs": [],
   "source": [
    "ans_ = np.dot((y + state_A.get_value()), state_B.get_value())"
   ]
  },
  {
   "cell_type": "code",
   "execution_count": 38,
   "metadata": {
    "collapsed": false
   },
   "outputs": [
    {
     "data": {
      "text/plain": [
       "array([[ True],\n",
       "       [ True],\n",
       "       [ True],\n",
       "       [ True],\n",
       "       [ True],\n",
       "       [ True],\n",
       "       [ True],\n",
       "       [ True],\n",
       "       [ True],\n",
       "       [ True]], dtype=bool)"
      ]
     },
     "execution_count": 38,
     "metadata": {},
     "output_type": "execute_result"
    }
   ],
   "source": [
    "ans == ans_"
   ]
  },
  {
   "cell_type": "code",
   "execution_count": 39,
   "metadata": {
    "collapsed": false
   },
   "outputs": [
    {
     "name": "stdout",
     "output_type": "stream",
     "text": [
      "[[ -4.93507506]\n",
      " [-14.68738965]\n",
      " [ -6.35927834]\n",
      " [ -8.39973388]\n",
      " [-10.25060722]\n",
      " [-14.12242385]\n",
      " [-10.8139351 ]\n",
      " [ -5.49433412]\n",
      " [ -8.09376912]\n",
      " [ -7.88081778]]\n"
     ]
    }
   ],
   "source": [
    "print ans"
   ]
  },
  {
   "cell_type": "code",
   "execution_count": null,
   "metadata": {
    "collapsed": true
   },
   "outputs": [],
   "source": []
  }
 ],
 "metadata": {
  "kernelspec": {
   "display_name": "Python 2",
   "language": "python",
   "name": "python2"
  },
  "language_info": {
   "codemirror_mode": {
    "name": "ipython",
    "version": 2
   },
   "file_extension": ".py",
   "mimetype": "text/x-python",
   "name": "python",
   "nbconvert_exporter": "python",
   "pygments_lexer": "ipython2",
   "version": "2.7.11"
  }
 },
 "nbformat": 4,
 "nbformat_minor": 0
}
